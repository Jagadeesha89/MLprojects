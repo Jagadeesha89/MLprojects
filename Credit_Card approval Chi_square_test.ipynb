{
 "cells": [
  {
   "cell_type": "raw",
   "id": "22c8d461",
   "metadata": {},
   "source": [
    "Problem Statement:\n",
    "\n",
    "Banks wants to know, whether credit facility will extend to the customer based on the customer data, for this analysis bank is using individual customer geography details, gender, income, industry employement and experience.\n",
    "\n",
    "Using Chi2_square_test and ANNOVA test and different ML algo, we are trying to suggest the bank"
   ]
  },
  {
   "cell_type": "code",
   "execution_count": 34,
   "id": "ab99b57d",
   "metadata": {},
   "outputs": [],
   "source": [
    "#import the required libraries\n",
    "import pandas as pd\n",
    "import numpy as np\n",
    "import matplotlib.pyplot as plt\n",
    "import seaborn as sns\n",
    "from scipy.stats import chi2_contingency\n",
    "import stat\n",
    "from scipy.stats import iqr"
   ]
  },
  {
   "cell_type": "code",
   "execution_count": 35,
   "id": "57bfab9f",
   "metadata": {},
   "outputs": [
    {
     "data": {
      "text/html": [
       "<div>\n",
       "<style scoped>\n",
       "    .dataframe tbody tr th:only-of-type {\n",
       "        vertical-align: middle;\n",
       "    }\n",
       "\n",
       "    .dataframe tbody tr th {\n",
       "        vertical-align: top;\n",
       "    }\n",
       "\n",
       "    .dataframe thead th {\n",
       "        text-align: right;\n",
       "    }\n",
       "</style>\n",
       "<table border=\"1\" class=\"dataframe\">\n",
       "  <thead>\n",
       "    <tr style=\"text-align: right;\">\n",
       "      <th></th>\n",
       "      <th>Gender</th>\n",
       "      <th>Age</th>\n",
       "      <th>Debt</th>\n",
       "      <th>Married</th>\n",
       "      <th>BankCustomer</th>\n",
       "      <th>Industry</th>\n",
       "      <th>Ethnicity</th>\n",
       "      <th>YearsEmployed</th>\n",
       "      <th>PriorDefault</th>\n",
       "      <th>Employed</th>\n",
       "      <th>CreditScore</th>\n",
       "      <th>DriversLicense</th>\n",
       "      <th>Citizen</th>\n",
       "      <th>ZipCode</th>\n",
       "      <th>Income</th>\n",
       "      <th>Approved</th>\n",
       "    </tr>\n",
       "  </thead>\n",
       "  <tbody>\n",
       "    <tr>\n",
       "      <th>0</th>\n",
       "      <td>1</td>\n",
       "      <td>30.83</td>\n",
       "      <td>0.000</td>\n",
       "      <td>1</td>\n",
       "      <td>1</td>\n",
       "      <td>Industrials</td>\n",
       "      <td>White</td>\n",
       "      <td>1.25</td>\n",
       "      <td>1</td>\n",
       "      <td>1</td>\n",
       "      <td>1</td>\n",
       "      <td>0</td>\n",
       "      <td>ByBirth</td>\n",
       "      <td>202</td>\n",
       "      <td>0</td>\n",
       "      <td>1</td>\n",
       "    </tr>\n",
       "    <tr>\n",
       "      <th>1</th>\n",
       "      <td>0</td>\n",
       "      <td>58.67</td>\n",
       "      <td>4.460</td>\n",
       "      <td>1</td>\n",
       "      <td>1</td>\n",
       "      <td>Materials</td>\n",
       "      <td>Black</td>\n",
       "      <td>3.04</td>\n",
       "      <td>1</td>\n",
       "      <td>1</td>\n",
       "      <td>6</td>\n",
       "      <td>0</td>\n",
       "      <td>ByBirth</td>\n",
       "      <td>43</td>\n",
       "      <td>560</td>\n",
       "      <td>1</td>\n",
       "    </tr>\n",
       "    <tr>\n",
       "      <th>2</th>\n",
       "      <td>0</td>\n",
       "      <td>24.50</td>\n",
       "      <td>0.500</td>\n",
       "      <td>1</td>\n",
       "      <td>1</td>\n",
       "      <td>Materials</td>\n",
       "      <td>Black</td>\n",
       "      <td>1.50</td>\n",
       "      <td>1</td>\n",
       "      <td>0</td>\n",
       "      <td>0</td>\n",
       "      <td>0</td>\n",
       "      <td>ByBirth</td>\n",
       "      <td>280</td>\n",
       "      <td>824</td>\n",
       "      <td>1</td>\n",
       "    </tr>\n",
       "    <tr>\n",
       "      <th>3</th>\n",
       "      <td>1</td>\n",
       "      <td>27.83</td>\n",
       "      <td>1.540</td>\n",
       "      <td>1</td>\n",
       "      <td>1</td>\n",
       "      <td>Industrials</td>\n",
       "      <td>White</td>\n",
       "      <td>3.75</td>\n",
       "      <td>1</td>\n",
       "      <td>1</td>\n",
       "      <td>5</td>\n",
       "      <td>1</td>\n",
       "      <td>ByBirth</td>\n",
       "      <td>100</td>\n",
       "      <td>3</td>\n",
       "      <td>1</td>\n",
       "    </tr>\n",
       "    <tr>\n",
       "      <th>4</th>\n",
       "      <td>1</td>\n",
       "      <td>20.17</td>\n",
       "      <td>5.625</td>\n",
       "      <td>1</td>\n",
       "      <td>1</td>\n",
       "      <td>Industrials</td>\n",
       "      <td>White</td>\n",
       "      <td>1.71</td>\n",
       "      <td>1</td>\n",
       "      <td>0</td>\n",
       "      <td>0</td>\n",
       "      <td>0</td>\n",
       "      <td>ByOtherMeans</td>\n",
       "      <td>120</td>\n",
       "      <td>0</td>\n",
       "      <td>1</td>\n",
       "    </tr>\n",
       "    <tr>\n",
       "      <th>...</th>\n",
       "      <td>...</td>\n",
       "      <td>...</td>\n",
       "      <td>...</td>\n",
       "      <td>...</td>\n",
       "      <td>...</td>\n",
       "      <td>...</td>\n",
       "      <td>...</td>\n",
       "      <td>...</td>\n",
       "      <td>...</td>\n",
       "      <td>...</td>\n",
       "      <td>...</td>\n",
       "      <td>...</td>\n",
       "      <td>...</td>\n",
       "      <td>...</td>\n",
       "      <td>...</td>\n",
       "      <td>...</td>\n",
       "    </tr>\n",
       "    <tr>\n",
       "      <th>685</th>\n",
       "      <td>1</td>\n",
       "      <td>21.08</td>\n",
       "      <td>10.085</td>\n",
       "      <td>0</td>\n",
       "      <td>0</td>\n",
       "      <td>Education</td>\n",
       "      <td>Black</td>\n",
       "      <td>1.25</td>\n",
       "      <td>0</td>\n",
       "      <td>0</td>\n",
       "      <td>0</td>\n",
       "      <td>0</td>\n",
       "      <td>ByBirth</td>\n",
       "      <td>260</td>\n",
       "      <td>0</td>\n",
       "      <td>0</td>\n",
       "    </tr>\n",
       "    <tr>\n",
       "      <th>686</th>\n",
       "      <td>0</td>\n",
       "      <td>22.67</td>\n",
       "      <td>0.750</td>\n",
       "      <td>1</td>\n",
       "      <td>1</td>\n",
       "      <td>Energy</td>\n",
       "      <td>White</td>\n",
       "      <td>2.00</td>\n",
       "      <td>0</td>\n",
       "      <td>1</td>\n",
       "      <td>2</td>\n",
       "      <td>1</td>\n",
       "      <td>ByBirth</td>\n",
       "      <td>200</td>\n",
       "      <td>394</td>\n",
       "      <td>0</td>\n",
       "    </tr>\n",
       "    <tr>\n",
       "      <th>687</th>\n",
       "      <td>0</td>\n",
       "      <td>25.25</td>\n",
       "      <td>13.500</td>\n",
       "      <td>0</td>\n",
       "      <td>0</td>\n",
       "      <td>Healthcare</td>\n",
       "      <td>Latino</td>\n",
       "      <td>2.00</td>\n",
       "      <td>0</td>\n",
       "      <td>1</td>\n",
       "      <td>1</td>\n",
       "      <td>1</td>\n",
       "      <td>ByBirth</td>\n",
       "      <td>200</td>\n",
       "      <td>1</td>\n",
       "      <td>0</td>\n",
       "    </tr>\n",
       "    <tr>\n",
       "      <th>688</th>\n",
       "      <td>1</td>\n",
       "      <td>17.92</td>\n",
       "      <td>0.205</td>\n",
       "      <td>1</td>\n",
       "      <td>1</td>\n",
       "      <td>ConsumerStaples</td>\n",
       "      <td>White</td>\n",
       "      <td>0.04</td>\n",
       "      <td>0</td>\n",
       "      <td>0</td>\n",
       "      <td>0</td>\n",
       "      <td>0</td>\n",
       "      <td>ByBirth</td>\n",
       "      <td>280</td>\n",
       "      <td>750</td>\n",
       "      <td>0</td>\n",
       "    </tr>\n",
       "    <tr>\n",
       "      <th>689</th>\n",
       "      <td>1</td>\n",
       "      <td>35.00</td>\n",
       "      <td>3.375</td>\n",
       "      <td>1</td>\n",
       "      <td>1</td>\n",
       "      <td>Energy</td>\n",
       "      <td>Black</td>\n",
       "      <td>8.29</td>\n",
       "      <td>0</td>\n",
       "      <td>0</td>\n",
       "      <td>0</td>\n",
       "      <td>1</td>\n",
       "      <td>ByBirth</td>\n",
       "      <td>0</td>\n",
       "      <td>0</td>\n",
       "      <td>0</td>\n",
       "    </tr>\n",
       "  </tbody>\n",
       "</table>\n",
       "<p>690 rows × 16 columns</p>\n",
       "</div>"
      ],
      "text/plain": [
       "     Gender    Age    Debt  Married  BankCustomer         Industry Ethnicity  \\\n",
       "0         1  30.83   0.000        1             1      Industrials     White   \n",
       "1         0  58.67   4.460        1             1        Materials     Black   \n",
       "2         0  24.50   0.500        1             1        Materials     Black   \n",
       "3         1  27.83   1.540        1             1      Industrials     White   \n",
       "4         1  20.17   5.625        1             1      Industrials     White   \n",
       "..      ...    ...     ...      ...           ...              ...       ...   \n",
       "685       1  21.08  10.085        0             0        Education     Black   \n",
       "686       0  22.67   0.750        1             1           Energy     White   \n",
       "687       0  25.25  13.500        0             0       Healthcare    Latino   \n",
       "688       1  17.92   0.205        1             1  ConsumerStaples     White   \n",
       "689       1  35.00   3.375        1             1           Energy     Black   \n",
       "\n",
       "     YearsEmployed  PriorDefault  Employed  CreditScore  DriversLicense  \\\n",
       "0             1.25             1         1            1               0   \n",
       "1             3.04             1         1            6               0   \n",
       "2             1.50             1         0            0               0   \n",
       "3             3.75             1         1            5               1   \n",
       "4             1.71             1         0            0               0   \n",
       "..             ...           ...       ...          ...             ...   \n",
       "685           1.25             0         0            0               0   \n",
       "686           2.00             0         1            2               1   \n",
       "687           2.00             0         1            1               1   \n",
       "688           0.04             0         0            0               0   \n",
       "689           8.29             0         0            0               1   \n",
       "\n",
       "          Citizen  ZipCode  Income  Approved  \n",
       "0         ByBirth      202       0         1  \n",
       "1         ByBirth       43     560         1  \n",
       "2         ByBirth      280     824         1  \n",
       "3         ByBirth      100       3         1  \n",
       "4    ByOtherMeans      120       0         1  \n",
       "..            ...      ...     ...       ...  \n",
       "685       ByBirth      260       0         0  \n",
       "686       ByBirth      200     394         0  \n",
       "687       ByBirth      200       1         0  \n",
       "688       ByBirth      280     750         0  \n",
       "689       ByBirth        0       0         0  \n",
       "\n",
       "[690 rows x 16 columns]"
      ]
     },
     "execution_count": 35,
     "metadata": {},
     "output_type": "execute_result"
    }
   ],
   "source": [
    "#read the data sets with display the data\n",
    "df=pd.read_csv(r\"D:\\clean_dataset.csv\")\n",
    "df"
   ]
  },
  {
   "cell_type": "code",
   "execution_count": 36,
   "id": "be741c0b",
   "metadata": {},
   "outputs": [
    {
     "name": "stdout",
     "output_type": "stream",
     "text": [
      "<class 'pandas.core.frame.DataFrame'>\n",
      "RangeIndex: 690 entries, 0 to 689\n",
      "Data columns (total 16 columns):\n",
      " #   Column          Non-Null Count  Dtype  \n",
      "---  ------          --------------  -----  \n",
      " 0   Gender          690 non-null    int64  \n",
      " 1   Age             690 non-null    float64\n",
      " 2   Debt            690 non-null    float64\n",
      " 3   Married         690 non-null    int64  \n",
      " 4   BankCustomer    690 non-null    int64  \n",
      " 5   Industry        690 non-null    object \n",
      " 6   Ethnicity       690 non-null    object \n",
      " 7   YearsEmployed   690 non-null    float64\n",
      " 8   PriorDefault    690 non-null    int64  \n",
      " 9   Employed        690 non-null    int64  \n",
      " 10  CreditScore     690 non-null    int64  \n",
      " 11  DriversLicense  690 non-null    int64  \n",
      " 12  Citizen         690 non-null    object \n",
      " 13  ZipCode         690 non-null    int64  \n",
      " 14  Income          690 non-null    int64  \n",
      " 15  Approved        690 non-null    int64  \n",
      "dtypes: float64(3), int64(10), object(3)\n",
      "memory usage: 86.4+ KB\n"
     ]
    }
   ],
   "source": [
    "#check the datasets information\n",
    "df.info()"
   ]
  },
  {
   "cell_type": "code",
   "execution_count": 37,
   "id": "bc59e838",
   "metadata": {},
   "outputs": [
    {
     "data": {
      "text/plain": [
       "Gender            0\n",
       "Age               0\n",
       "Debt              0\n",
       "Married           0\n",
       "BankCustomer      0\n",
       "Industry          0\n",
       "Ethnicity         0\n",
       "YearsEmployed     0\n",
       "PriorDefault      0\n",
       "Employed          0\n",
       "CreditScore       0\n",
       "DriversLicense    0\n",
       "Citizen           0\n",
       "ZipCode           0\n",
       "Income            0\n",
       "Approved          0\n",
       "dtype: int64"
      ]
     },
     "execution_count": 37,
     "metadata": {},
     "output_type": "execute_result"
    }
   ],
   "source": [
    "#check the any null values in the datasets\n",
    "df.isnull().sum()"
   ]
  },
  {
   "cell_type": "code",
   "execution_count": 38,
   "id": "9b466950",
   "metadata": {},
   "outputs": [
    {
     "data": {
      "text/html": [
       "<div>\n",
       "<style scoped>\n",
       "    .dataframe tbody tr th:only-of-type {\n",
       "        vertical-align: middle;\n",
       "    }\n",
       "\n",
       "    .dataframe tbody tr th {\n",
       "        vertical-align: top;\n",
       "    }\n",
       "\n",
       "    .dataframe thead th {\n",
       "        text-align: right;\n",
       "    }\n",
       "</style>\n",
       "<table border=\"1\" class=\"dataframe\">\n",
       "  <thead>\n",
       "    <tr style=\"text-align: right;\">\n",
       "      <th></th>\n",
       "      <th>Gender</th>\n",
       "      <th>Age</th>\n",
       "      <th>Debt</th>\n",
       "      <th>Married</th>\n",
       "      <th>BankCustomer</th>\n",
       "      <th>YearsEmployed</th>\n",
       "      <th>PriorDefault</th>\n",
       "      <th>Employed</th>\n",
       "      <th>CreditScore</th>\n",
       "      <th>DriversLicense</th>\n",
       "      <th>ZipCode</th>\n",
       "      <th>Income</th>\n",
       "      <th>Approved</th>\n",
       "    </tr>\n",
       "  </thead>\n",
       "  <tbody>\n",
       "    <tr>\n",
       "      <th>count</th>\n",
       "      <td>690.000000</td>\n",
       "      <td>690.000000</td>\n",
       "      <td>690.000000</td>\n",
       "      <td>690.000000</td>\n",
       "      <td>690.000000</td>\n",
       "      <td>690.000000</td>\n",
       "      <td>690.000000</td>\n",
       "      <td>690.000000</td>\n",
       "      <td>690.00000</td>\n",
       "      <td>690.000000</td>\n",
       "      <td>690.000000</td>\n",
       "      <td>690.000000</td>\n",
       "      <td>690.000000</td>\n",
       "    </tr>\n",
       "    <tr>\n",
       "      <th>mean</th>\n",
       "      <td>0.695652</td>\n",
       "      <td>31.514116</td>\n",
       "      <td>4.758725</td>\n",
       "      <td>0.760870</td>\n",
       "      <td>0.763768</td>\n",
       "      <td>2.223406</td>\n",
       "      <td>0.523188</td>\n",
       "      <td>0.427536</td>\n",
       "      <td>2.40000</td>\n",
       "      <td>0.457971</td>\n",
       "      <td>180.547826</td>\n",
       "      <td>1017.385507</td>\n",
       "      <td>0.444928</td>\n",
       "    </tr>\n",
       "    <tr>\n",
       "      <th>std</th>\n",
       "      <td>0.460464</td>\n",
       "      <td>11.860245</td>\n",
       "      <td>4.978163</td>\n",
       "      <td>0.426862</td>\n",
       "      <td>0.425074</td>\n",
       "      <td>3.346513</td>\n",
       "      <td>0.499824</td>\n",
       "      <td>0.495080</td>\n",
       "      <td>4.86294</td>\n",
       "      <td>0.498592</td>\n",
       "      <td>173.970323</td>\n",
       "      <td>5210.102598</td>\n",
       "      <td>0.497318</td>\n",
       "    </tr>\n",
       "    <tr>\n",
       "      <th>min</th>\n",
       "      <td>0.000000</td>\n",
       "      <td>13.750000</td>\n",
       "      <td>0.000000</td>\n",
       "      <td>0.000000</td>\n",
       "      <td>0.000000</td>\n",
       "      <td>0.000000</td>\n",
       "      <td>0.000000</td>\n",
       "      <td>0.000000</td>\n",
       "      <td>0.00000</td>\n",
       "      <td>0.000000</td>\n",
       "      <td>0.000000</td>\n",
       "      <td>0.000000</td>\n",
       "      <td>0.000000</td>\n",
       "    </tr>\n",
       "    <tr>\n",
       "      <th>25%</th>\n",
       "      <td>0.000000</td>\n",
       "      <td>22.670000</td>\n",
       "      <td>1.000000</td>\n",
       "      <td>1.000000</td>\n",
       "      <td>1.000000</td>\n",
       "      <td>0.165000</td>\n",
       "      <td>0.000000</td>\n",
       "      <td>0.000000</td>\n",
       "      <td>0.00000</td>\n",
       "      <td>0.000000</td>\n",
       "      <td>60.000000</td>\n",
       "      <td>0.000000</td>\n",
       "      <td>0.000000</td>\n",
       "    </tr>\n",
       "    <tr>\n",
       "      <th>50%</th>\n",
       "      <td>1.000000</td>\n",
       "      <td>28.460000</td>\n",
       "      <td>2.750000</td>\n",
       "      <td>1.000000</td>\n",
       "      <td>1.000000</td>\n",
       "      <td>1.000000</td>\n",
       "      <td>1.000000</td>\n",
       "      <td>0.000000</td>\n",
       "      <td>0.00000</td>\n",
       "      <td>0.000000</td>\n",
       "      <td>160.000000</td>\n",
       "      <td>5.000000</td>\n",
       "      <td>0.000000</td>\n",
       "    </tr>\n",
       "    <tr>\n",
       "      <th>75%</th>\n",
       "      <td>1.000000</td>\n",
       "      <td>37.707500</td>\n",
       "      <td>7.207500</td>\n",
       "      <td>1.000000</td>\n",
       "      <td>1.000000</td>\n",
       "      <td>2.625000</td>\n",
       "      <td>1.000000</td>\n",
       "      <td>1.000000</td>\n",
       "      <td>3.00000</td>\n",
       "      <td>1.000000</td>\n",
       "      <td>272.000000</td>\n",
       "      <td>395.500000</td>\n",
       "      <td>1.000000</td>\n",
       "    </tr>\n",
       "    <tr>\n",
       "      <th>max</th>\n",
       "      <td>1.000000</td>\n",
       "      <td>80.250000</td>\n",
       "      <td>28.000000</td>\n",
       "      <td>1.000000</td>\n",
       "      <td>1.000000</td>\n",
       "      <td>28.500000</td>\n",
       "      <td>1.000000</td>\n",
       "      <td>1.000000</td>\n",
       "      <td>67.00000</td>\n",
       "      <td>1.000000</td>\n",
       "      <td>2000.000000</td>\n",
       "      <td>100000.000000</td>\n",
       "      <td>1.000000</td>\n",
       "    </tr>\n",
       "  </tbody>\n",
       "</table>\n",
       "</div>"
      ],
      "text/plain": [
       "           Gender         Age        Debt     Married  BankCustomer  \\\n",
       "count  690.000000  690.000000  690.000000  690.000000    690.000000   \n",
       "mean     0.695652   31.514116    4.758725    0.760870      0.763768   \n",
       "std      0.460464   11.860245    4.978163    0.426862      0.425074   \n",
       "min      0.000000   13.750000    0.000000    0.000000      0.000000   \n",
       "25%      0.000000   22.670000    1.000000    1.000000      1.000000   \n",
       "50%      1.000000   28.460000    2.750000    1.000000      1.000000   \n",
       "75%      1.000000   37.707500    7.207500    1.000000      1.000000   \n",
       "max      1.000000   80.250000   28.000000    1.000000      1.000000   \n",
       "\n",
       "       YearsEmployed  PriorDefault    Employed  CreditScore  DriversLicense  \\\n",
       "count     690.000000    690.000000  690.000000    690.00000      690.000000   \n",
       "mean        2.223406      0.523188    0.427536      2.40000        0.457971   \n",
       "std         3.346513      0.499824    0.495080      4.86294        0.498592   \n",
       "min         0.000000      0.000000    0.000000      0.00000        0.000000   \n",
       "25%         0.165000      0.000000    0.000000      0.00000        0.000000   \n",
       "50%         1.000000      1.000000    0.000000      0.00000        0.000000   \n",
       "75%         2.625000      1.000000    1.000000      3.00000        1.000000   \n",
       "max        28.500000      1.000000    1.000000     67.00000        1.000000   \n",
       "\n",
       "           ZipCode         Income    Approved  \n",
       "count   690.000000     690.000000  690.000000  \n",
       "mean    180.547826    1017.385507    0.444928  \n",
       "std     173.970323    5210.102598    0.497318  \n",
       "min       0.000000       0.000000    0.000000  \n",
       "25%      60.000000       0.000000    0.000000  \n",
       "50%     160.000000       5.000000    0.000000  \n",
       "75%     272.000000     395.500000    1.000000  \n",
       "max    2000.000000  100000.000000    1.000000  "
      ]
     },
     "execution_count": 38,
     "metadata": {},
     "output_type": "execute_result"
    }
   ],
   "source": [
    "#check the mean,mode details\n",
    "df.describe()"
   ]
  },
  {
   "cell_type": "code",
   "execution_count": 39,
   "id": "51312d3c",
   "metadata": {},
   "outputs": [
    {
     "name": "stdout",
     "output_type": "stream",
     "text": [
      "1    480\n",
      "0    210\n",
      "Name: Gender, dtype: int64\n",
      "28.46    12\n",
      "22.67     9\n",
      "20.42     7\n",
      "18.83     6\n",
      "24.50     6\n",
      "         ..\n",
      "48.25     1\n",
      "28.33     1\n",
      "18.75     1\n",
      "18.50     1\n",
      "36.42     1\n",
      "Name: Age, Length: 350, dtype: int64\n",
      "1.500     21\n",
      "0.000     19\n",
      "3.000     19\n",
      "2.500     19\n",
      "0.750     16\n",
      "          ..\n",
      "0.085      1\n",
      "12.250     1\n",
      "11.045     1\n",
      "11.125     1\n",
      "3.375      1\n",
      "Name: Debt, Length: 215, dtype: int64\n",
      "1    525\n",
      "0    165\n",
      "Name: Married, dtype: int64\n",
      "1    527\n",
      "0    163\n",
      "Name: BankCustomer, dtype: int64\n",
      "Energy                   146\n",
      "Materials                 78\n",
      "Industrials               64\n",
      "ConsumerDiscretionary     59\n",
      "ConsumerStaples           54\n",
      "Healthcare                53\n",
      "Financials                51\n",
      "InformationTechnology     41\n",
      "CommunicationServices     38\n",
      "Utilities                 38\n",
      "Real Estate               30\n",
      "Education                 25\n",
      "Research                  10\n",
      "Transport                  3\n",
      "Name: Industry, dtype: int64\n",
      "White     408\n",
      "Black     138\n",
      "Asian      59\n",
      "Latino     57\n",
      "Other      28\n",
      "Name: Ethnicity, dtype: int64\n",
      "0.000    70\n",
      "0.250    35\n",
      "0.040    33\n",
      "1.000    31\n",
      "0.125    30\n",
      "         ..\n",
      "4.165     1\n",
      "9.000     1\n",
      "1.960     1\n",
      "5.125     1\n",
      "8.290     1\n",
      "Name: YearsEmployed, Length: 132, dtype: int64\n",
      "1    361\n",
      "0    329\n",
      "Name: PriorDefault, dtype: int64\n",
      "0    395\n",
      "1    295\n",
      "Name: Employed, dtype: int64\n",
      "0     395\n",
      "1      71\n",
      "2      45\n",
      "3      28\n",
      "6      23\n",
      "11     19\n",
      "5      18\n",
      "7      16\n",
      "4      15\n",
      "9      10\n",
      "8      10\n",
      "10      8\n",
      "14      8\n",
      "12      8\n",
      "15      4\n",
      "16      3\n",
      "20      2\n",
      "17      2\n",
      "23      1\n",
      "40      1\n",
      "67      1\n",
      "13      1\n",
      "19      1\n",
      "Name: CreditScore, dtype: int64\n",
      "0    374\n",
      "1    316\n",
      "Name: DriversLicense, dtype: int64\n",
      "ByBirth         625\n",
      "ByOtherMeans     57\n",
      "Temporary         8\n",
      "Name: Citizen, dtype: int64\n",
      "0      145\n",
      "120     35\n",
      "200     35\n",
      "160     34\n",
      "100     30\n",
      "      ... \n",
      "21       1\n",
      "393      1\n",
      "395      1\n",
      "93       1\n",
      "256      1\n",
      "Name: ZipCode, Length: 170, dtype: int64\n",
      "0       295\n",
      "1        29\n",
      "500      10\n",
      "1000     10\n",
      "2         9\n",
      "       ... \n",
      "1704      1\n",
      "857       1\n",
      "6700      1\n",
      "2503      1\n",
      "750       1\n",
      "Name: Income, Length: 240, dtype: int64\n",
      "0    383\n",
      "1    307\n",
      "Name: Approved, dtype: int64\n"
     ]
    }
   ],
   "source": [
    "#check the value counts for each parameters\n",
    "for i in df:\n",
    "    print(df[i].value_counts())"
   ]
  },
  {
   "cell_type": "markdown",
   "id": "2f3ea7ee",
   "metadata": {},
   "source": [
    "First will select the categorical type data for chi2_suare_test,here categorical type means \"object type\", \"yes/no\"\n",
    "lets check the categorical data and create the seperate list."
   ]
  },
  {
   "cell_type": "code",
   "execution_count": 40,
   "id": "72444b3a",
   "metadata": {},
   "outputs": [],
   "source": [
    "#create the list of categorical type variables\n",
    "category=['Gender','Married','BankCustomer','Industry','Ethnicity','PriorDefault','Employed',\n",
    "          'DriversLicense','Citizen','ZipCode','Approved']"
   ]
  },
  {
   "cell_type": "code",
   "execution_count": 41,
   "id": "b306eab0",
   "metadata": {},
   "outputs": [
    {
     "data": {
      "text/html": [
       "<div>\n",
       "<style scoped>\n",
       "    .dataframe tbody tr th:only-of-type {\n",
       "        vertical-align: middle;\n",
       "    }\n",
       "\n",
       "    .dataframe tbody tr th {\n",
       "        vertical-align: top;\n",
       "    }\n",
       "\n",
       "    .dataframe thead th {\n",
       "        text-align: right;\n",
       "    }\n",
       "</style>\n",
       "<table border=\"1\" class=\"dataframe\">\n",
       "  <thead>\n",
       "    <tr style=\"text-align: right;\">\n",
       "      <th></th>\n",
       "      <th>Gender</th>\n",
       "      <th>Married</th>\n",
       "      <th>BankCustomer</th>\n",
       "      <th>Industry</th>\n",
       "      <th>Ethnicity</th>\n",
       "      <th>PriorDefault</th>\n",
       "      <th>Employed</th>\n",
       "      <th>DriversLicense</th>\n",
       "      <th>Citizen</th>\n",
       "      <th>ZipCode</th>\n",
       "      <th>Approved</th>\n",
       "    </tr>\n",
       "  </thead>\n",
       "  <tbody>\n",
       "    <tr>\n",
       "      <th>0</th>\n",
       "      <td>1</td>\n",
       "      <td>1</td>\n",
       "      <td>1</td>\n",
       "      <td>Industrials</td>\n",
       "      <td>White</td>\n",
       "      <td>1</td>\n",
       "      <td>1</td>\n",
       "      <td>0</td>\n",
       "      <td>ByBirth</td>\n",
       "      <td>202</td>\n",
       "      <td>1</td>\n",
       "    </tr>\n",
       "    <tr>\n",
       "      <th>1</th>\n",
       "      <td>0</td>\n",
       "      <td>1</td>\n",
       "      <td>1</td>\n",
       "      <td>Materials</td>\n",
       "      <td>Black</td>\n",
       "      <td>1</td>\n",
       "      <td>1</td>\n",
       "      <td>0</td>\n",
       "      <td>ByBirth</td>\n",
       "      <td>43</td>\n",
       "      <td>1</td>\n",
       "    </tr>\n",
       "    <tr>\n",
       "      <th>2</th>\n",
       "      <td>0</td>\n",
       "      <td>1</td>\n",
       "      <td>1</td>\n",
       "      <td>Materials</td>\n",
       "      <td>Black</td>\n",
       "      <td>1</td>\n",
       "      <td>0</td>\n",
       "      <td>0</td>\n",
       "      <td>ByBirth</td>\n",
       "      <td>280</td>\n",
       "      <td>1</td>\n",
       "    </tr>\n",
       "    <tr>\n",
       "      <th>3</th>\n",
       "      <td>1</td>\n",
       "      <td>1</td>\n",
       "      <td>1</td>\n",
       "      <td>Industrials</td>\n",
       "      <td>White</td>\n",
       "      <td>1</td>\n",
       "      <td>1</td>\n",
       "      <td>1</td>\n",
       "      <td>ByBirth</td>\n",
       "      <td>100</td>\n",
       "      <td>1</td>\n",
       "    </tr>\n",
       "    <tr>\n",
       "      <th>4</th>\n",
       "      <td>1</td>\n",
       "      <td>1</td>\n",
       "      <td>1</td>\n",
       "      <td>Industrials</td>\n",
       "      <td>White</td>\n",
       "      <td>1</td>\n",
       "      <td>0</td>\n",
       "      <td>0</td>\n",
       "      <td>ByOtherMeans</td>\n",
       "      <td>120</td>\n",
       "      <td>1</td>\n",
       "    </tr>\n",
       "    <tr>\n",
       "      <th>...</th>\n",
       "      <td>...</td>\n",
       "      <td>...</td>\n",
       "      <td>...</td>\n",
       "      <td>...</td>\n",
       "      <td>...</td>\n",
       "      <td>...</td>\n",
       "      <td>...</td>\n",
       "      <td>...</td>\n",
       "      <td>...</td>\n",
       "      <td>...</td>\n",
       "      <td>...</td>\n",
       "    </tr>\n",
       "    <tr>\n",
       "      <th>685</th>\n",
       "      <td>1</td>\n",
       "      <td>0</td>\n",
       "      <td>0</td>\n",
       "      <td>Education</td>\n",
       "      <td>Black</td>\n",
       "      <td>0</td>\n",
       "      <td>0</td>\n",
       "      <td>0</td>\n",
       "      <td>ByBirth</td>\n",
       "      <td>260</td>\n",
       "      <td>0</td>\n",
       "    </tr>\n",
       "    <tr>\n",
       "      <th>686</th>\n",
       "      <td>0</td>\n",
       "      <td>1</td>\n",
       "      <td>1</td>\n",
       "      <td>Energy</td>\n",
       "      <td>White</td>\n",
       "      <td>0</td>\n",
       "      <td>1</td>\n",
       "      <td>1</td>\n",
       "      <td>ByBirth</td>\n",
       "      <td>200</td>\n",
       "      <td>0</td>\n",
       "    </tr>\n",
       "    <tr>\n",
       "      <th>687</th>\n",
       "      <td>0</td>\n",
       "      <td>0</td>\n",
       "      <td>0</td>\n",
       "      <td>Healthcare</td>\n",
       "      <td>Latino</td>\n",
       "      <td>0</td>\n",
       "      <td>1</td>\n",
       "      <td>1</td>\n",
       "      <td>ByBirth</td>\n",
       "      <td>200</td>\n",
       "      <td>0</td>\n",
       "    </tr>\n",
       "    <tr>\n",
       "      <th>688</th>\n",
       "      <td>1</td>\n",
       "      <td>1</td>\n",
       "      <td>1</td>\n",
       "      <td>ConsumerStaples</td>\n",
       "      <td>White</td>\n",
       "      <td>0</td>\n",
       "      <td>0</td>\n",
       "      <td>0</td>\n",
       "      <td>ByBirth</td>\n",
       "      <td>280</td>\n",
       "      <td>0</td>\n",
       "    </tr>\n",
       "    <tr>\n",
       "      <th>689</th>\n",
       "      <td>1</td>\n",
       "      <td>1</td>\n",
       "      <td>1</td>\n",
       "      <td>Energy</td>\n",
       "      <td>Black</td>\n",
       "      <td>0</td>\n",
       "      <td>0</td>\n",
       "      <td>1</td>\n",
       "      <td>ByBirth</td>\n",
       "      <td>0</td>\n",
       "      <td>0</td>\n",
       "    </tr>\n",
       "  </tbody>\n",
       "</table>\n",
       "<p>690 rows × 11 columns</p>\n",
       "</div>"
      ],
      "text/plain": [
       "     Gender  Married  BankCustomer         Industry Ethnicity  PriorDefault  \\\n",
       "0         1        1             1      Industrials     White             1   \n",
       "1         0        1             1        Materials     Black             1   \n",
       "2         0        1             1        Materials     Black             1   \n",
       "3         1        1             1      Industrials     White             1   \n",
       "4         1        1             1      Industrials     White             1   \n",
       "..      ...      ...           ...              ...       ...           ...   \n",
       "685       1        0             0        Education     Black             0   \n",
       "686       0        1             1           Energy     White             0   \n",
       "687       0        0             0       Healthcare    Latino             0   \n",
       "688       1        1             1  ConsumerStaples     White             0   \n",
       "689       1        1             1           Energy     Black             0   \n",
       "\n",
       "     Employed  DriversLicense       Citizen  ZipCode  Approved  \n",
       "0           1               0       ByBirth      202         1  \n",
       "1           1               0       ByBirth       43         1  \n",
       "2           0               0       ByBirth      280         1  \n",
       "3           1               1       ByBirth      100         1  \n",
       "4           0               0  ByOtherMeans      120         1  \n",
       "..        ...             ...           ...      ...       ...  \n",
       "685         0               0       ByBirth      260         0  \n",
       "686         1               1       ByBirth      200         0  \n",
       "687         1               1       ByBirth      200         0  \n",
       "688         0               0       ByBirth      280         0  \n",
       "689         0               1       ByBirth        0         0  \n",
       "\n",
       "[690 rows x 11 columns]"
      ]
     },
     "execution_count": 41,
     "metadata": {},
     "output_type": "execute_result"
    }
   ],
   "source": [
    "df.loc[:,category]"
   ]
  },
  {
   "cell_type": "markdown",
   "id": "77f3e8f8",
   "metadata": {},
   "source": [
    "# Statistical Testing using Chisquare:"
   ]
  },
  {
   "cell_type": "code",
   "execution_count": 42,
   "id": "923118b0",
   "metadata": {},
   "outputs": [],
   "source": [
    "import colorama \n",
    "from colorama import Fore"
   ]
  },
  {
   "cell_type": "code",
   "execution_count": 43,
   "id": "17e4ae9b",
   "metadata": {},
   "outputs": [
    {
     "name": "stdout",
     "output_type": "stream",
     "text": [
      "Gender:\n"
     ]
    },
    {
     "data": {
      "image/png": "[encoded data removed]",
      "text/plain": [
       "<Figure size 720x360 with 1 Axes>"
      ]
     },
     "metadata": {
      "needs_background": "light"
     },
     "output_type": "display_data"
    },
    {
     "name": "stdout",
     "output_type": "stream",
     "text": [
      "\u001b[31m'Gender'is a 'bad Predictor'\n",
      "p_val=0.44723087514133186\n",
      "\n",
      "Married:\n"
     ]
    },
    {
     "data": {
      "image/png": "[encoded data removed]",
      "text/plain": [
       "<Figure size 720x360 with 1 Axes>"
      ]
     },
     "metadata": {
      "needs_background": "light"
     },
     "output_type": "display_data"
    },
    {
     "name": "stdout",
     "output_type": "stream",
     "text": [
      "\u001b[32m'Married' is a Good Predictor\n",
      "p_val=2.100231920165588e-06\n",
      "\n",
      "BankCustomer:\n"
     ]
    },
    {
     "data": {
      "image/png": "[encoded data removed]",
      "text/plain": [
       "<Figure size 720x360 with 1 Axes>"
      ]
     },
     "metadata": {
      "needs_background": "light"
     },
     "output_type": "display_data"
    },
    {
     "name": "stdout",
     "output_type": "stream",
     "text": [
      "\u001b[32m'BankCustomer' is a Good Predictor\n",
      "p_val=6.91661320541803e-07\n",
      "\n",
      "Industry:\n"
     ]
    },
    {
     "data": {
      "image/png": "[encoded data removed]",
      "text/plain": [
       "<Figure size 720x360 with 1 Axes>"
      ]
     },
     "metadata": {
      "needs_background": "light"
     },
     "output_type": "display_data"
    },
    {
     "name": "stdout",
     "output_type": "stream",
     "text": [
      "\u001b[32m'Industry' is a Good Predictor\n",
      "p_val=3.502987066102042e-15\n",
      "\n",
      "Ethnicity:\n"
     ]
    },
    {
     "data": {
      "image/png": "[encoded data removed]",
      "text/plain": [
       "<Figure size 720x360 with 1 Axes>"
      ]
     },
     "metadata": {
      "needs_background": "light"
     },
     "output_type": "display_data"
    },
    {
     "name": "stdout",
     "output_type": "stream",
     "text": [
      "\u001b[32m'Ethnicity' is a Good Predictor\n",
      "p_val=1.823665654934685e-08\n",
      "\n",
      "PriorDefault:\n"
     ]
    },
    {
     "data": {
      "image/png": "[encoded data removed]",
      "text/plain": [
       "<Figure size 720x360 with 1 Axes>"
      ]
     },
     "metadata": {
      "needs_background": "light"
     },
     "output_type": "display_data"
    },
    {
     "name": "stdout",
     "output_type": "stream",
     "text": [
      "\u001b[32m'PriorDefault' is a Good Predictor\n",
      "p_val=7.298530125411298e-80\n",
      "\n",
      "Employed:\n"
     ]
    },
    {
     "data": {
      "image/png": "[encoded data removed]",
      "text/plain": [
       "<Figure size 720x360 with 1 Axes>"
      ]
     },
     "metadata": {
      "needs_background": "light"
     },
     "output_type": "display_data"
    },
    {
     "name": "stdout",
     "output_type": "stream",
     "text": [
      "\u001b[32m'Employed' is a Good Predictor\n",
      "p_val=2.227269345312281e-33\n",
      "\n",
      "DriversLicense:\n"
     ]
    },
    {
     "data": {
      "image/png": "[encoded data removed]",
      "text/plain": [
       "<Figure size 720x360 with 1 Axes>"
      ]
     },
     "metadata": {
      "needs_background": "light"
     },
     "output_type": "display_data"
    },
    {
     "name": "stdout",
     "output_type": "stream",
     "text": [
      "\u001b[31m'DriversLicense'is a 'bad Predictor'\n",
      "p_val=0.4061341323141693\n",
      "\n",
      "Citizen:\n"
     ]
    },
    {
     "data": {
      "image/png": "[encoded data removed]",
      "text/plain": [
       "<Figure size 720x360 with 1 Axes>"
      ]
     },
     "metadata": {
      "needs_background": "light"
     },
     "output_type": "display_data"
    },
    {
     "name": "stdout",
     "output_type": "stream",
     "text": [
      "\u001b[32m'Citizen' is a Good Predictor\n",
      "p_val=0.010094291370456362\n",
      "\n",
      "ZipCode:\n"
     ]
    },
    {
     "data": {
      "image/png": "[encoded data removed]",
      "text/plain": [
       "<Figure size 720x360 with 1 Axes>"
      ]
     },
     "metadata": {
      "needs_background": "light"
     },
     "output_type": "display_data"
    },
    {
     "name": "stdout",
     "output_type": "stream",
     "text": [
      "\u001b[32m'ZipCode' is a Good Predictor\n",
      "p_val=0.006354824252183887\n",
      "\n",
      "Approved:\n"
     ]
    },
    {
     "data": {
      "image/png": "[encoded data removed]",
      "text/plain": [
       "<Figure size 720x360 with 1 Axes>"
      ]
     },
     "metadata": {
      "needs_background": "light"
     },
     "output_type": "display_data"
    },
    {
     "name": "stdout",
     "output_type": "stream",
     "text": [
      "\u001b[32m'Approved' is a Good Predictor\n",
      "p_val=4.469841378183071e-152\n",
      "\n"
     ]
    }
   ],
   "source": [
    "for i in category:\n",
    "    print(i+\":\")\n",
    "    plt.figure(figsize=(10,5))\n",
    "    sns.countplot(x=i,data=df,hue=\"Approved\")\n",
    "    plt.show()\n",
    "    a=np.array(pd.crosstab(df.Approved,df[i]))\n",
    "    (stats,p,dof,_)=chi2_contingency(a,correction=False)\n",
    "    if p>0.05:\n",
    "        print(Fore.RED + \"'{}'is a 'bad Predictor'\".format(i))\n",
    "        print('p_val={}\\n'.format(p))\n",
    "    else:\n",
    "        print(Fore.GREEN + \"'{}' is a Good Predictor\".format(i))\n",
    "        print('p_val={}\\n'.format(p))"
   ]
  },
  {
   "cell_type": "markdown",
   "id": "75bf43d9",
   "metadata": {},
   "source": [
    "# Gender:\n",
    "\"we see that majority of credit card holders are males \"\n",
    "\"since Gender is a bad predictor towards Approval we drop the attribute\""
   ]
  },
  {
   "cell_type": "code",
   "execution_count": 44,
   "id": "675fdb2f",
   "metadata": {},
   "outputs": [
    {
     "name": "stderr",
     "output_type": "stream",
     "text": [
      "C:\\Users\\SMFL-20531\\AppData\\Local\\Temp\\ipykernel_14400\\2126209942.py:1: FutureWarning: In a future version of pandas all arguments of DataFrame.drop except for the argument 'labels' will be keyword-only.\n",
      "  df.drop(['Gender'],1,inplace=True)\n"
     ]
    }
   ],
   "source": [
    "df.drop(['Gender'],1,inplace=True)"
   ]
  },
  {
   "cell_type": "markdown",
   "id": "98e4a144",
   "metadata": {},
   "source": [
    "# Married:\n",
    "\"we see that majority of credit card holders are Married \""
   ]
  },
  {
   "cell_type": "markdown",
   "id": "5fa54db0",
   "metadata": {},
   "source": [
    "# BankCustomer:\n",
    "\"we see that majority of credit card holders are BankCustomers only \"\n",
    "\"we see that BankCustomers have equal probability of getting approval to not getting approval of credit card \"\n",
    "\"If the Applicant is not BankCustomers then he/she has higher probability of getting approval of credit card \""
   ]
  },
  {
   "cell_type": "markdown",
   "id": "914e0e62",
   "metadata": {},
   "source": [
    "# Industry:\n",
    "\"we see that majority of credit card holders are people working in Energy sector \"\n",
    "\"There is Heigh Probability of credit card approval if he/she working in HealthCare sector\""
   ]
  },
  {
   "cell_type": "markdown",
   "id": "46898489",
   "metadata": {},
   "source": [
    "# Ethnicity:\n",
    "\"we see that people belonging to White ethnicity use credit card majorly \""
   ]
  },
  {
   "cell_type": "markdown",
   "id": "91b71bd5",
   "metadata": {},
   "source": [
    "# PriorDefault:\n",
    "\"we see that people with no defaults have high probability of creditcard approval \"\n",
    "\"we see that people with payment defaults have less probability of creditcard approval \""
   ]
  },
  {
   "cell_type": "markdown",
   "id": "ec5d1cc0",
   "metadata": {},
   "source": [
    "# DriversLicense:\n",
    "\"we see that majority of credit card holders have DrivingLicense\"\n",
    "\"since DriversLicense is a bad predictor towards Approval we drop the attribute\""
   ]
  },
  {
   "cell_type": "code",
   "execution_count": 45,
   "id": "3ac2d4aa",
   "metadata": {},
   "outputs": [
    {
     "name": "stderr",
     "output_type": "stream",
     "text": [
      "C:\\Users\\SMFL-20531\\AppData\\Local\\Temp\\ipykernel_14400\\2114335881.py:1: FutureWarning: In a future version of pandas all arguments of DataFrame.drop except for the argument 'labels' will be keyword-only.\n",
      "  df.drop(['DriversLicense'],1,inplace=True)\n"
     ]
    }
   ],
   "source": [
    "df.drop(['DriversLicense'],1,inplace=True)"
   ]
  },
  {
   "cell_type": "markdown",
   "id": "c6ee26fa",
   "metadata": {},
   "source": [
    "# Citizen:\n",
    "\"we see that majority of credit card holders have Citizenship bybirth\""
   ]
  },
  {
   "cell_type": "markdown",
   "id": "720139c5",
   "metadata": {},
   "source": [
    "# Continious type of variable:"
   ]
  },
  {
   "cell_type": "code",
   "execution_count": 46,
   "id": "480b696c",
   "metadata": {},
   "outputs": [],
   "source": [
    "column_names=df.columns.tolist()\n",
    "continious=list(set(column_names)-set(category))"
   ]
  },
  {
   "cell_type": "code",
   "execution_count": 47,
   "id": "d24b65fd",
   "metadata": {},
   "outputs": [
    {
     "data": {
      "text/plain": [
       "['Income', 'Age', 'YearsEmployed', 'CreditScore', 'Debt']"
      ]
     },
     "execution_count": 47,
     "metadata": {},
     "output_type": "execute_result"
    }
   ],
   "source": [
    "continious"
   ]
  },
  {
   "cell_type": "code",
   "execution_count": 48,
   "id": "e755d00b",
   "metadata": {},
   "outputs": [
    {
     "data": {
      "text/html": [
       "<div>\n",
       "<style scoped>\n",
       "    .dataframe tbody tr th:only-of-type {\n",
       "        vertical-align: middle;\n",
       "    }\n",
       "\n",
       "    .dataframe tbody tr th {\n",
       "        vertical-align: top;\n",
       "    }\n",
       "\n",
       "    .dataframe thead th {\n",
       "        text-align: right;\n",
       "    }\n",
       "</style>\n",
       "<table border=\"1\" class=\"dataframe\">\n",
       "  <thead>\n",
       "    <tr style=\"text-align: right;\">\n",
       "      <th></th>\n",
       "      <th>Income</th>\n",
       "      <th>Age</th>\n",
       "      <th>YearsEmployed</th>\n",
       "      <th>CreditScore</th>\n",
       "      <th>Debt</th>\n",
       "    </tr>\n",
       "  </thead>\n",
       "  <tbody>\n",
       "    <tr>\n",
       "      <th>0</th>\n",
       "      <td>0</td>\n",
       "      <td>30.83</td>\n",
       "      <td>1.25</td>\n",
       "      <td>1</td>\n",
       "      <td>0.000</td>\n",
       "    </tr>\n",
       "    <tr>\n",
       "      <th>1</th>\n",
       "      <td>560</td>\n",
       "      <td>58.67</td>\n",
       "      <td>3.04</td>\n",
       "      <td>6</td>\n",
       "      <td>4.460</td>\n",
       "    </tr>\n",
       "    <tr>\n",
       "      <th>2</th>\n",
       "      <td>824</td>\n",
       "      <td>24.50</td>\n",
       "      <td>1.50</td>\n",
       "      <td>0</td>\n",
       "      <td>0.500</td>\n",
       "    </tr>\n",
       "    <tr>\n",
       "      <th>3</th>\n",
       "      <td>3</td>\n",
       "      <td>27.83</td>\n",
       "      <td>3.75</td>\n",
       "      <td>5</td>\n",
       "      <td>1.540</td>\n",
       "    </tr>\n",
       "    <tr>\n",
       "      <th>4</th>\n",
       "      <td>0</td>\n",
       "      <td>20.17</td>\n",
       "      <td>1.71</td>\n",
       "      <td>0</td>\n",
       "      <td>5.625</td>\n",
       "    </tr>\n",
       "    <tr>\n",
       "      <th>...</th>\n",
       "      <td>...</td>\n",
       "      <td>...</td>\n",
       "      <td>...</td>\n",
       "      <td>...</td>\n",
       "      <td>...</td>\n",
       "    </tr>\n",
       "    <tr>\n",
       "      <th>685</th>\n",
       "      <td>0</td>\n",
       "      <td>21.08</td>\n",
       "      <td>1.25</td>\n",
       "      <td>0</td>\n",
       "      <td>10.085</td>\n",
       "    </tr>\n",
       "    <tr>\n",
       "      <th>686</th>\n",
       "      <td>394</td>\n",
       "      <td>22.67</td>\n",
       "      <td>2.00</td>\n",
       "      <td>2</td>\n",
       "      <td>0.750</td>\n",
       "    </tr>\n",
       "    <tr>\n",
       "      <th>687</th>\n",
       "      <td>1</td>\n",
       "      <td>25.25</td>\n",
       "      <td>2.00</td>\n",
       "      <td>1</td>\n",
       "      <td>13.500</td>\n",
       "    </tr>\n",
       "    <tr>\n",
       "      <th>688</th>\n",
       "      <td>750</td>\n",
       "      <td>17.92</td>\n",
       "      <td>0.04</td>\n",
       "      <td>0</td>\n",
       "      <td>0.205</td>\n",
       "    </tr>\n",
       "    <tr>\n",
       "      <th>689</th>\n",
       "      <td>0</td>\n",
       "      <td>35.00</td>\n",
       "      <td>8.29</td>\n",
       "      <td>0</td>\n",
       "      <td>3.375</td>\n",
       "    </tr>\n",
       "  </tbody>\n",
       "</table>\n",
       "<p>690 rows × 5 columns</p>\n",
       "</div>"
      ],
      "text/plain": [
       "     Income    Age  YearsEmployed  CreditScore    Debt\n",
       "0         0  30.83           1.25            1   0.000\n",
       "1       560  58.67           3.04            6   4.460\n",
       "2       824  24.50           1.50            0   0.500\n",
       "3         3  27.83           3.75            5   1.540\n",
       "4         0  20.17           1.71            0   5.625\n",
       "..      ...    ...            ...          ...     ...\n",
       "685       0  21.08           1.25            0  10.085\n",
       "686     394  22.67           2.00            2   0.750\n",
       "687       1  25.25           2.00            1  13.500\n",
       "688     750  17.92           0.04            0   0.205\n",
       "689       0  35.00           8.29            0   3.375\n",
       "\n",
       "[690 rows x 5 columns]"
      ]
     },
     "execution_count": 48,
     "metadata": {},
     "output_type": "execute_result"
    }
   ],
   "source": [
    "df.loc[:,continious]"
   ]
  },
  {
   "cell_type": "code",
   "execution_count": 49,
   "id": "4c501ca3",
   "metadata": {},
   "outputs": [
    {
     "name": "stdout",
     "output_type": "stream",
     "text": [
      "Income:\n"
     ]
    },
    {
     "data": {
      "image/png": "[encoded data removed]",
      "text/plain": [
       "<Figure size 720x360 with 1 Axes>"
      ]
     },
     "metadata": {
      "needs_background": "light"
     },
     "output_type": "display_data"
    },
    {
     "data": {
      "image/png": "[encoded data removed]",
      "text/plain": [
       "<Figure size 432x288 with 1 Axes>"
      ]
     },
     "metadata": {
      "needs_background": "light"
     },
     "output_type": "display_data"
    },
    {
     "name": "stdout",
     "output_type": "stream",
     "text": [
      "Age:\n"
     ]
    },
    {
     "data": {
      "image/png": "[encoded data removed]",
      "text/plain": [
       "<Figure size 720x360 with 1 Axes>"
      ]
     },
     "metadata": {
      "needs_background": "light"
     },
     "output_type": "display_data"
    },
    {
     "data": {
      "image/png": "[encoded data removed]",
      "text/plain": [
       "<Figure size 432x288 with 1 Axes>"
      ]
     },
     "metadata": {
      "needs_background": "light"
     },
     "output_type": "display_data"
    },
    {
     "name": "stdout",
     "output_type": "stream",
     "text": [
      "YearsEmployed:\n"
     ]
    },
    {
     "data": {
      "image/png": "[encoded data removed]",
      "text/plain": [
       "<Figure size 720x360 with 1 Axes>"
      ]
     },
     "metadata": {
      "needs_background": "light"
     },
     "output_type": "display_data"
    },
    {
     "data": {
      "image/png": "[encoded data removed]",
      "text/plain": [
       "<Figure size 432x288 with 1 Axes>"
      ]
     },
     "metadata": {
      "needs_background": "light"
     },
     "output_type": "display_data"
    },
    {
     "name": "stdout",
     "output_type": "stream",
     "text": [
      "CreditScore:\n"
     ]
    },
    {
     "data": {
      "image/png": "[encoded data removed]",
      "text/plain": [
       "<Figure size 720x360 with 1 Axes>"
      ]
     },
     "metadata": {
      "needs_background": "light"
     },
     "output_type": "display_data"
    },
    {
     "data": {
      "image/png": "[encoded data removed]",
      "text/plain": [
       "<Figure size 432x288 with 1 Axes>"
      ]
     },
     "metadata": {
      "needs_background": "light"
     },
     "output_type": "display_data"
    },
    {
     "name": "stdout",
     "output_type": "stream",
     "text": [
      "Debt:\n"
     ]
    },
    {
     "data": {
      "image/png": "[encoded data removed]",
      "text/plain": [
       "<Figure size 720x360 with 1 Axes>"
      ]
     },
     "metadata": {
      "needs_background": "light"
     },
     "output_type": "display_data"
    },
    {
     "data": {
      "image/png": "[encoded data removed]",
      "text/plain": [
       "<Figure size 432x288 with 1 Axes>"
      ]
     },
     "metadata": {
      "needs_background": "light"
     },
     "output_type": "display_data"
    }
   ],
   "source": [
    "for i in continious:\n",
    "    print(i+':')\n",
    "    plt.figure(figsize=(10,5))\n",
    "    sns.histplot(df[i])\n",
    "    plt.xlabel(i)\n",
    "    plt.ylabel('counts')\n",
    "    plt.title('histogram of ' + i)\n",
    "    plt.show()\n",
    "    df[i].plot.box(vert=False,patch_artist=True)\n",
    "    plt.xlabel(i)\n",
    "    plt.show()"
   ]
  },
  {
   "cell_type": "markdown",
   "id": "69eca1ed",
   "metadata": {},
   "source": [
    "# Treating Outliers:"
   ]
  },
  {
   "cell_type": "code",
   "execution_count": 50,
   "id": "d7fdd93b",
   "metadata": {},
   "outputs": [],
   "source": [
    "iqr=iqr"
   ]
  },
  {
   "cell_type": "code",
   "execution_count": 51,
   "id": "e9aa7b50",
   "metadata": {
    "scrolled": false
   },
   "outputs": [
    {
     "name": "stdout",
     "output_type": "stream",
     "text": [
      "Income:\n"
     ]
    },
    {
     "data": {
      "image/png": "[encoded data removed]",
      "text/plain": [
       "<Figure size 1440x720 with 1 Axes>"
      ]
     },
     "metadata": {
      "needs_background": "light"
     },
     "output_type": "display_data"
    },
    {
     "name": "stdout",
     "output_type": "stream",
     "text": [
      "Left Limit:-593.25\n",
      "Right Limit:988.75\n",
      "iqr:395.5\n",
      "if left outlier type 'left' else 'right' else 'both' if no outliers then type 'no'right\n",
      "by what number do you want to replace395.5\n"
     ]
    },
    {
     "data": {
      "image/png": "[encoded data removed]",
      "text/plain": [
       "<Figure size 1440x720 with 1 Axes>"
      ]
     },
     "metadata": {
      "needs_background": "light"
     },
     "output_type": "display_data"
    },
    {
     "name": "stdout",
     "output_type": "stream",
     "text": [
      "Age:\n"
     ]
    },
    {
     "data": {
      "image/png": "[encoded data removed]",
      "text/plain": [
       "<Figure size 1440x720 with 1 Axes>"
      ]
     },
     "metadata": {
      "needs_background": "light"
     },
     "output_type": "display_data"
    },
    {
     "name": "stdout",
     "output_type": "stream",
     "text": [
      "Left Limit:0.11375000000001023\n",
      "Right Limit:60.26374999999999\n",
      "iqr:15.037499999999994\n",
      "if left outlier type 'left' else 'right' else 'both' if no outliers then type 'no'right\n",
      "by what number do you want to replace15.03\n"
     ]
    },
    {
     "data": {
      "image/png": "[encoded data removed]",
      "text/plain": [
       "<Figure size 1440x720 with 1 Axes>"
      ]
     },
     "metadata": {
      "needs_background": "light"
     },
     "output_type": "display_data"
    },
    {
     "name": "stdout",
     "output_type": "stream",
     "text": [
      "YearsEmployed:\n"
     ]
    },
    {
     "data": {
      "image/png": "[encoded data removed]",
      "text/plain": [
       "<Figure size 1440x720 with 1 Axes>"
      ]
     },
     "metadata": {
      "needs_background": "light"
     },
     "output_type": "display_data"
    },
    {
     "name": "stdout",
     "output_type": "stream",
     "text": [
      "Left Limit:-3.525\n",
      "Right Limit:6.3149999999999995\n",
      "iqr:2.46\n",
      "if left outlier type 'left' else 'right' else 'both' if no outliers then type 'no'right\n",
      "by what number do you want to replace2.46\n"
     ]
    },
    {
     "data": {
      "image/png": "[encoded data removed]",
      "text/plain": [
       "<Figure size 1440x720 with 1 Axes>"
      ]
     },
     "metadata": {
      "needs_background": "light"
     },
     "output_type": "display_data"
    },
    {
     "name": "stdout",
     "output_type": "stream",
     "text": [
      "CreditScore:\n"
     ]
    },
    {
     "data": {
      "image/png": "[encoded data removed]",
      "text/plain": [
       "<Figure size 1440x720 with 1 Axes>"
      ]
     },
     "metadata": {
      "needs_background": "light"
     },
     "output_type": "display_data"
    },
    {
     "name": "stdout",
     "output_type": "stream",
     "text": [
      "Left Limit:-4.5\n",
      "Right Limit:7.5\n",
      "iqr:3.0\n",
      "if left outlier type 'left' else 'right' else 'both' if no outliers then type 'no'right\n",
      "by what number do you want to replace3.0\n"
     ]
    },
    {
     "data": {
      "image/png": "[encoded data removed]",
      "text/plain": [
       "<Figure size 1440x720 with 1 Axes>"
      ]
     },
     "metadata": {
      "needs_background": "light"
     },
     "output_type": "display_data"
    },
    {
     "name": "stdout",
     "output_type": "stream",
     "text": [
      "Debt:\n"
     ]
    },
    {
     "data": {
      "image/png": "[encoded data removed]",
      "text/plain": [
       "<Figure size 1440x720 with 1 Axes>"
      ]
     },
     "metadata": {
      "needs_background": "light"
     },
     "output_type": "display_data"
    },
    {
     "name": "stdout",
     "output_type": "stream",
     "text": [
      "Left Limit:-8.31125\n",
      "Right Limit:16.518749999999997\n",
      "iqr:6.2075\n",
      "if left outlier type 'left' else 'right' else 'both' if no outliers then type 'no'right\n",
      "by what number do you want to replace6.2075\n"
     ]
    },
    {
     "data": {
      "image/png": "[encoded data removed]",
      "text/plain": [
       "<Figure size 1440x720 with 1 Axes>"
      ]
     },
     "metadata": {
      "needs_background": "light"
     },
     "output_type": "display_data"
    }
   ],
   "source": [
    "for i in continious:\n",
    "    print(i+\":\")\n",
    "    plt.figure(figsize=(20,10))\n",
    "    df[i].plot.box(vert=False,patch_artist=True)\n",
    "    plt.xlabel(i)\n",
    "    plt.show()\n",
    "    \n",
    "    iqr=df[i].describe()['75%']-df[i].describe()['25%']\n",
    "    right_lim=df[i].quantile(0.75)+1.5*iqr\n",
    "    left_lim=df[i].quantile(0.25)-1.5*iqr\n",
    "    print('Left Limit:{}'.format(left_lim))\n",
    "    print('Right Limit:{}'.format(right_lim))\n",
    "    print('iqr:{}'.format(iqr))\n",
    "    \n",
    "    a=input(\"if left outlier type 'left' else 'right' else 'both' if no outliers then type 'no'\")\n",
    "    a=a.lower()\n",
    "    if a=='left':\n",
    "        lo=float(input('by what number do you want to replace'))\n",
    "        df[i]=[lo if val<left_lim else val for val in df[i]]\n",
    "    elif a=='right':\n",
    "        ro=float(input('by what number do you want to replace'))\n",
    "        df[i]=[ro if val>right_lim else val for val in df[i]]\n",
    "    elif a=='both':\n",
    "        lo=float(input('by what number do you want to replace'))\n",
    "        ro=float(input('by what number do you want to replace'))\n",
    "        df[i]=[ro if val>right_lim else val for val in df[i]]\n",
    "        df[i]=[lo if val<left_lim else val for val in df[i]]\n",
    "    elif a=='no':\n",
    "        pass\n",
    "    plt.figure(figsize=(20,10))\n",
    "    df[i].plot.box(vert=False,patch_artist=True)\n",
    "    plt.xlabel(i)\n",
    "    plt.show()"
   ]
  },
  {
   "cell_type": "code",
   "execution_count": 53,
   "id": "795bc812",
   "metadata": {},
   "outputs": [
    {
     "name": "stdout",
     "output_type": "stream",
     "text": [
      "Income:\n"
     ]
    },
    {
     "data": {
      "image/png": "[encoded data removed]",
      "text/plain": [
       "<Figure size 720x360 with 1 Axes>"
      ]
     },
     "metadata": {
      "needs_background": "light"
     },
     "output_type": "display_data"
    },
    {
     "data": {
      "image/png": "[encoded data removed]",
      "text/plain": [
       "<Figure size 432x288 with 1 Axes>"
      ]
     },
     "metadata": {
      "needs_background": "light"
     },
     "output_type": "display_data"
    },
    {
     "name": "stdout",
     "output_type": "stream",
     "text": [
      "Age:\n"
     ]
    },
    {
     "data": {
      "image/png": "[encoded data removed]",
      "text/plain": [
       "<Figure size 720x360 with 1 Axes>"
      ]
     },
     "metadata": {
      "needs_background": "light"
     },
     "output_type": "display_data"
    },
    {
     "data": {
      "image/png": "[encoded data removed]",
      "text/plain": [
       "<Figure size 432x288 with 1 Axes>"
      ]
     },
     "metadata": {
      "needs_background": "light"
     },
     "output_type": "display_data"
    },
    {
     "name": "stdout",
     "output_type": "stream",
     "text": [
      "YearsEmployed:\n"
     ]
    },
    {
     "data": {
      "image/png": "[encoded data removed]",
      "text/plain": [
       "<Figure size 720x360 with 1 Axes>"
      ]
     },
     "metadata": {
      "needs_background": "light"
     },
     "output_type": "display_data"
    },
    {
     "data": {
      "image/png": "[encoded data removed]",
      "text/plain": [
       "<Figure size 432x288 with 1 Axes>"
      ]
     },
     "metadata": {
      "needs_background": "light"
     },
     "output_type": "display_data"
    },
    {
     "name": "stdout",
     "output_type": "stream",
     "text": [
      "CreditScore:\n"
     ]
    },
    {
     "data": {
      "image/png": "[encoded data removed]",
      "text/plain": [
       "<Figure size 720x360 with 1 Axes>"
      ]
     },
     "metadata": {
      "needs_background": "light"
     },
     "output_type": "display_data"
    },
    {
     "data": {
      "image/png": "[encoded data removed]",
      "text/plain": [
       "<Figure size 432x288 with 1 Axes>"
      ]
     },
     "metadata": {
      "needs_background": "light"
     },
     "output_type": "display_data"
    },
    {
     "name": "stdout",
     "output_type": "stream",
     "text": [
      "Debt:\n"
     ]
    },
    {
     "data": {
      "image/png": "[encoded data removed]",
      "text/plain": [
       "<Figure size 720x360 with 1 Axes>"
      ]
     },
     "metadata": {
      "needs_background": "light"
     },
     "output_type": "display_data"
    },
    {
     "data": {
      "image/png": "[encoded data removed]",
      "text/plain": [
       "<Figure size 432x288 with 1 Axes>"
      ]
     },
     "metadata": {
      "needs_background": "light"
     },
     "output_type": "display_data"
    }
   ],
   "source": [
    "for i in continious:\n",
    "    print(i+\":\")\n",
    "    plt.figure(figsize=(10,5))\n",
    "    sns.histplot(df[i])\n",
    "    plt.xlabel(i)\n",
    "    plt.ylabel('counts')\n",
    "    plt.title('histogram of '+i)\n",
    "    plt.show()\n",
    "    df[i].plot.box(vert=False,patch_artist=True)\n",
    "    plt.xlabel(i)\n",
    "    plt.show()"
   ]
  },
  {
   "cell_type": "code",
   "execution_count": 54,
   "id": "a5f552e4",
   "metadata": {},
   "outputs": [
    {
     "name": "stdout",
     "output_type": "stream",
     "text": [
      "Income:\n"
     ]
    },
    {
     "data": {
      "image/png": "[encoded data removed]",
      "text/plain": [
       "<Figure size 432x288 with 1 Axes>"
      ]
     },
     "metadata": {
      "needs_background": "light"
     },
     "output_type": "display_data"
    },
    {
     "data": {
      "image/png": "[encoded data removed]",
      "text/plain": [
       "<Figure size 432x288 with 1 Axes>"
      ]
     },
     "metadata": {
      "needs_background": "light"
     },
     "output_type": "display_data"
    },
    {
     "name": "stdout",
     "output_type": "stream",
     "text": [
      "Age:\n"
     ]
    },
    {
     "data": {
      "image/png": "[encoded data removed]",
      "text/plain": [
       "<Figure size 432x288 with 1 Axes>"
      ]
     },
     "metadata": {
      "needs_background": "light"
     },
     "output_type": "display_data"
    },
    {
     "data": {
      "image/png": "[encoded data removed]",
      "text/plain": [
       "<Figure size 432x288 with 1 Axes>"
      ]
     },
     "metadata": {
      "needs_background": "light"
     },
     "output_type": "display_data"
    },
    {
     "name": "stdout",
     "output_type": "stream",
     "text": [
      "YearsEmployed:\n"
     ]
    },
    {
     "data": {
      "image/png": "[encoded data removed]",
      "text/plain": [
       "<Figure size 432x288 with 1 Axes>"
      ]
     },
     "metadata": {
      "needs_background": "light"
     },
     "output_type": "display_data"
    },
    {
     "data": {
      "image/png": "[encoded data removed]",
      "text/plain": [
       "<Figure size 432x288 with 1 Axes>"
      ]
     },
     "metadata": {
      "needs_background": "light"
     },
     "output_type": "display_data"
    },
    {
     "name": "stdout",
     "output_type": "stream",
     "text": [
      "CreditScore:\n"
     ]
    },
    {
     "data": {
      "image/png": "[encoded data removed]",
      "text/plain": [
       "<Figure size 432x288 with 1 Axes>"
      ]
     },
     "metadata": {
      "needs_background": "light"
     },
     "output_type": "display_data"
    },
    {
     "data": {
      "image/png": "[encoded data removed]",
      "text/plain": [
       "<Figure size 432x288 with 1 Axes>"
      ]
     },
     "metadata": {
      "needs_background": "light"
     },
     "output_type": "display_data"
    },
    {
     "name": "stdout",
     "output_type": "stream",
     "text": [
      "Debt:\n"
     ]
    },
    {
     "data": {
      "image/png": "[encoded data removed]",
      "text/plain": [
       "<Figure size 432x288 with 1 Axes>"
      ]
     },
     "metadata": {
      "needs_background": "light"
     },
     "output_type": "display_data"
    },
    {
     "data": {
      "image/png": "[encoded data removed]",
      "text/plain": [
       "<Figure size 432x288 with 1 Axes>"
      ]
     },
     "metadata": {
      "needs_background": "light"
     },
     "output_type": "display_data"
    }
   ],
   "source": [
    "for i in continious:\n",
    "    print(i+\":\")\n",
    "    sns.histplot(x=df[i],hue=df.Approved)\n",
    "    plt.xlabel(i)\n",
    "    plt.ylabel('counts')\n",
    "    plt.title('histogram of '+ i)\n",
    "    plt.show()\n",
    "    sns.boxplot(y=df[i],x=df.Approved)\n",
    "    plt.show()"
   ]
  },
  {
   "cell_type": "markdown",
   "id": "37015bd3",
   "metadata": {},
   "source": [
    "# Statistical Testing using Anova:"
   ]
  },
  {
   "cell_type": "code",
   "execution_count": 57,
   "id": "f481cd44",
   "metadata": {},
   "outputs": [],
   "source": [
    "from statsmodels.stats.multicomp import pairwise_tukeyhsd\n",
    "from statsmodels.formula.api import ols\n",
    "import statsmodels.api as smf"
   ]
  },
  {
   "cell_type": "code",
   "execution_count": 58,
   "id": "156a58d5",
   "metadata": {},
   "outputs": [
    {
     "name": "stdout",
     "output_type": "stream",
     "text": [
      "-------------------------------------------------------------------------------------------------------------------\n",
      "Income:\n",
      "\n",
      "ANOVA:\n",
      "\n",
      "             df        sum_sq       mean_sq           F        PR(>F)\n",
      "Approved    1.0  4.161531e+06  4.161531e+06  104.814081  5.417547e-23\n",
      "Residual  688.0  2.731631e+07  3.970393e+04         NaN           NaN \n",
      "\n",
      "Pvalue=5.4175472814508e-23\n",
      "\n",
      "TUKEY:\n",
      "\n",
      "\u001b[31m'Income' is a 'good Predictor'\n",
      "\n",
      "Avg of this feature is not same for both card approved group and not approved group\n",
      "\n",
      "we need to perform Tuckey as atleast one category is different\n",
      "\n",
      "\u001b[32m'Income' is a 'good Predictor'\n",
      "\n",
      " Multiple Comparison of Means - Tukey HSD, FWER=0.05 \n",
      "=====================================================\n",
      "group1 group2 meandiff p-adj  lower    upper   reject\n",
      "-----------------------------------------------------\n",
      "     0      1 156.2725  -0.0 126.3026 186.2424   True\n",
      "----------------------------------------------------- \n",
      "\n",
      "-------------------------------------------------------------------------------------------------------------------\n",
      "Age:\n",
      "\n",
      "ANOVA:\n",
      "\n",
      "             df        sum_sq      mean_sq          F    PR(>F)\n",
      "Approved    1.0   1565.625577  1565.625577  14.427262  0.000159\n",
      "Residual  688.0  74660.762713   108.518550        NaN       NaN \n",
      "\n",
      "Pvalue=0.00015856086530408587\n",
      "\n",
      "TUKEY:\n",
      "\n",
      "\u001b[31m'Age' is a 'good Predictor'\n",
      "\n",
      "Avg of this feature is not same for both card approved group and not approved group\n",
      "\n",
      "we need to perform Tuckey as atleast one category is different\n",
      "\n",
      "\u001b[32m'Age' is a 'good Predictor'\n",
      "\n",
      "Multiple Comparison of Means - Tukey HSD, FWER=0.05\n",
      "==================================================\n",
      "group1 group2 meandiff p-adj  lower  upper  reject\n",
      "--------------------------------------------------\n",
      "     0      1   3.0311 0.0002 1.4643 4.5979   True\n",
      "-------------------------------------------------- \n",
      "\n",
      "-------------------------------------------------------------------------------------------------------------------\n",
      "YearsEmployed:\n",
      "\n",
      "ANOVA:\n",
      "\n",
      "             df      sum_sq     mean_sq           F        PR(>F)\n",
      "Approved    1.0   200.03432  200.034320  100.012285  4.467613e-22\n",
      "Residual  688.0  1376.06708    2.000098         NaN           NaN \n",
      "\n",
      "Pvalue=4.467613399885831e-22\n",
      "\n",
      "TUKEY:\n",
      "\n",
      "\u001b[31m'YearsEmployed' is a 'good Predictor'\n",
      "\n",
      "Avg of this feature is not same for both card approved group and not approved group\n",
      "\n",
      "we need to perform Tuckey as atleast one category is different\n",
      "\n",
      "\u001b[32m'YearsEmployed' is a 'good Predictor'\n",
      "\n",
      "Multiple Comparison of Means - Tukey HSD, FWER=0.05\n",
      "=================================================\n",
      "group1 group2 meandiff p-adj lower  upper  reject\n",
      "-------------------------------------------------\n",
      "     0      1   1.0834  -0.0 0.8707 1.2962   True\n",
      "------------------------------------------------- \n",
      "\n",
      "-------------------------------------------------------------------------------------------------------------------\n",
      "CreditScore:\n",
      "\n",
      "ANOVA:\n",
      "\n",
      "             df       sum_sq     mean_sq           F        PR(>F)\n",
      "Approved    1.0   562.393969  562.393969  211.877834  4.856202e-42\n",
      "Residual  688.0  1826.179944    2.654331         NaN           NaN \n",
      "\n",
      "Pvalue=4.856202409405879e-42\n",
      "\n",
      "TUKEY:\n",
      "\n",
      "\u001b[31m'CreditScore' is a 'good Predictor'\n",
      "\n",
      "Avg of this feature is not same for both card approved group and not approved group\n",
      "\n",
      "we need to perform Tuckey as atleast one category is different\n",
      "\n",
      "\u001b[32m'CreditScore' is a 'good Predictor'\n",
      "\n",
      "Multiple Comparison of Means - Tukey HSD, FWER=0.05\n",
      "=================================================\n",
      "group1 group2 meandiff p-adj lower  upper  reject\n",
      "-------------------------------------------------\n",
      "     0      1   1.8167  -0.0 1.5716 2.0617   True\n",
      "------------------------------------------------- \n",
      "\n",
      "-------------------------------------------------------------------------------------------------------------------\n",
      "Debt:\n",
      "\n",
      "ANOVA:\n",
      "\n",
      "             df        sum_sq     mean_sq        F        PR(>F)\n",
      "Approved    1.0    469.578045  469.578045  28.0154  1.620321e-07\n",
      "Residual  688.0  11531.860794   16.761426      NaN           NaN \n",
      "\n",
      "Pvalue=1.6203209859251425e-07\n",
      "\n",
      "TUKEY:\n",
      "\n",
      "\u001b[31m'Debt' is a 'good Predictor'\n",
      "\n",
      "Avg of this feature is not same for both card approved group and not approved group\n",
      "\n",
      "we need to perform Tuckey as atleast one category is different\n",
      "\n",
      "\u001b[32m'Debt' is a 'good Predictor'\n",
      "\n",
      "Multiple Comparison of Means - Tukey HSD, FWER=0.05\n",
      "=================================================\n",
      "group1 group2 meandiff p-adj lower  upper  reject\n",
      "-------------------------------------------------\n",
      "     0      1     1.66   0.0 1.0442 2.2758   True\n",
      "------------------------------------------------- \n",
      "\n"
     ]
    }
   ],
   "source": [
    "for i in continious:\n",
    "    print(\"-------------------------------------------------------------------------------------------------------------------\")\n",
    "    print(i+\":\\n\")\n",
    "    print('ANOVA:\\n')\n",
    "    mod=ols(i+'~Approved',data=df).fit()\n",
    "    aov_table=smf.stats.anova_lm(mod,type = 2)\n",
    "    print(aov_table,'\\n')\n",
    "    print('Pvalue={}\\n'.format(aov_table['PR(>F)'][0]))\n",
    "    p=aov_table['PR(>F)'][0]\n",
    "\n",
    "    if p>0.05:\n",
    "        print(Fore.RED +\"'{}' is a 'bad Predictor'\\n\".format(i))\n",
    "        print('Avg of this feature is same for both card approved group and not approved group\\n')\n",
    "        print(\"p_val = {}\\n\".format(p))\n",
    "    else:\n",
    "        print('TUKEY:\\n')\n",
    "        print(Fore.RED +\"'{}' is a 'good Predictor'\\n\".format(i))\n",
    "        print('Avg of this feature is not same for both card approved group and not approved group\\n')\n",
    "        print('we need to perform Tuckey as atleast one category is different\\n')\n",
    "        print(Fore.GREEN +\"'{}' is a 'good Predictor'\\n\".format(i))\n",
    "        tukey=pairwise_tukeyhsd(df[i],df.Approved,alpha=0.05)\n",
    "        print(tukey,'\\n')"
   ]
  },
  {
   "cell_type": "code",
   "execution_count": 59,
   "id": "e993e70b",
   "metadata": {},
   "outputs": [],
   "source": [
    "df_industry = pd.get_dummies(df['Industry'], drop_first=True, prefix = \"Industry\")"
   ]
  },
  {
   "cell_type": "code",
   "execution_count": 61,
   "id": "1d854e50",
   "metadata": {},
   "outputs": [],
   "source": [
    "df=pd.concat([df,df_industry],axis=1)"
   ]
  },
  {
   "cell_type": "code",
   "execution_count": 63,
   "id": "4259b6ad",
   "metadata": {},
   "outputs": [],
   "source": [
    "del df['Industry']"
   ]
  },
  {
   "cell_type": "code",
   "execution_count": 65,
   "id": "2dcdd7b9",
   "metadata": {},
   "outputs": [],
   "source": [
    "df_ethnicity = pd.get_dummies(df['Ethnicity'], drop_first=True, prefix = \"Ethnicity\")"
   ]
  },
  {
   "cell_type": "code",
   "execution_count": 67,
   "id": "6d7f4060",
   "metadata": {},
   "outputs": [],
   "source": [
    "df=pd.concat([df,df_ethnicity],axis=1)"
   ]
  },
  {
   "cell_type": "code",
   "execution_count": 68,
   "id": "3cd05bd9",
   "metadata": {},
   "outputs": [],
   "source": [
    "del df['Ethnicity']"
   ]
  },
  {
   "cell_type": "code",
   "execution_count": 69,
   "id": "5a84d550",
   "metadata": {},
   "outputs": [],
   "source": [
    "df_citizen = pd.get_dummies(df['Citizen'], drop_first=True, prefix = \"Citizen\")"
   ]
  },
  {
   "cell_type": "code",
   "execution_count": 71,
   "id": "67b9e63d",
   "metadata": {},
   "outputs": [],
   "source": [
    "df=pd.concat([df,df_citizen],axis=1)"
   ]
  },
  {
   "cell_type": "code",
   "execution_count": 74,
   "id": "ff8fb3da",
   "metadata": {},
   "outputs": [],
   "source": [
    "del df['Citizen']"
   ]
  },
  {
   "cell_type": "code",
   "execution_count": 75,
   "id": "cd7dcc22",
   "metadata": {},
   "outputs": [
    {
     "data": {
      "text/html": [
       "<div>\n",
       "<style scoped>\n",
       "    .dataframe tbody tr th:only-of-type {\n",
       "        vertical-align: middle;\n",
       "    }\n",
       "\n",
       "    .dataframe tbody tr th {\n",
       "        vertical-align: top;\n",
       "    }\n",
       "\n",
       "    .dataframe thead th {\n",
       "        text-align: right;\n",
       "    }\n",
       "</style>\n",
       "<table border=\"1\" class=\"dataframe\">\n",
       "  <thead>\n",
       "    <tr style=\"text-align: right;\">\n",
       "      <th></th>\n",
       "      <th>Age</th>\n",
       "      <th>Debt</th>\n",
       "      <th>Married</th>\n",
       "      <th>BankCustomer</th>\n",
       "      <th>YearsEmployed</th>\n",
       "      <th>PriorDefault</th>\n",
       "      <th>Employed</th>\n",
       "      <th>CreditScore</th>\n",
       "      <th>ZipCode</th>\n",
       "      <th>Income</th>\n",
       "      <th>...</th>\n",
       "      <th>Industry_Real Estate</th>\n",
       "      <th>Industry_Research</th>\n",
       "      <th>Industry_Transport</th>\n",
       "      <th>Industry_Utilities</th>\n",
       "      <th>Ethnicity_Black</th>\n",
       "      <th>Ethnicity_Latino</th>\n",
       "      <th>Ethnicity_Other</th>\n",
       "      <th>Ethnicity_White</th>\n",
       "      <th>Citizen_ByOtherMeans</th>\n",
       "      <th>Citizen_Temporary</th>\n",
       "    </tr>\n",
       "  </thead>\n",
       "  <tbody>\n",
       "    <tr>\n",
       "      <th>0</th>\n",
       "      <td>30.83</td>\n",
       "      <td>0.000</td>\n",
       "      <td>1</td>\n",
       "      <td>1</td>\n",
       "      <td>1.25</td>\n",
       "      <td>1</td>\n",
       "      <td>1</td>\n",
       "      <td>1.0</td>\n",
       "      <td>202</td>\n",
       "      <td>0.0</td>\n",
       "      <td>...</td>\n",
       "      <td>0</td>\n",
       "      <td>0</td>\n",
       "      <td>0</td>\n",
       "      <td>0</td>\n",
       "      <td>0</td>\n",
       "      <td>0</td>\n",
       "      <td>0</td>\n",
       "      <td>1</td>\n",
       "      <td>0</td>\n",
       "      <td>0</td>\n",
       "    </tr>\n",
       "    <tr>\n",
       "      <th>1</th>\n",
       "      <td>58.67</td>\n",
       "      <td>4.460</td>\n",
       "      <td>1</td>\n",
       "      <td>1</td>\n",
       "      <td>3.04</td>\n",
       "      <td>1</td>\n",
       "      <td>1</td>\n",
       "      <td>6.0</td>\n",
       "      <td>43</td>\n",
       "      <td>560.0</td>\n",
       "      <td>...</td>\n",
       "      <td>0</td>\n",
       "      <td>0</td>\n",
       "      <td>0</td>\n",
       "      <td>0</td>\n",
       "      <td>1</td>\n",
       "      <td>0</td>\n",
       "      <td>0</td>\n",
       "      <td>0</td>\n",
       "      <td>0</td>\n",
       "      <td>0</td>\n",
       "    </tr>\n",
       "    <tr>\n",
       "      <th>2</th>\n",
       "      <td>24.50</td>\n",
       "      <td>0.500</td>\n",
       "      <td>1</td>\n",
       "      <td>1</td>\n",
       "      <td>1.50</td>\n",
       "      <td>1</td>\n",
       "      <td>0</td>\n",
       "      <td>0.0</td>\n",
       "      <td>280</td>\n",
       "      <td>824.0</td>\n",
       "      <td>...</td>\n",
       "      <td>0</td>\n",
       "      <td>0</td>\n",
       "      <td>0</td>\n",
       "      <td>0</td>\n",
       "      <td>1</td>\n",
       "      <td>0</td>\n",
       "      <td>0</td>\n",
       "      <td>0</td>\n",
       "      <td>0</td>\n",
       "      <td>0</td>\n",
       "    </tr>\n",
       "    <tr>\n",
       "      <th>3</th>\n",
       "      <td>27.83</td>\n",
       "      <td>1.540</td>\n",
       "      <td>1</td>\n",
       "      <td>1</td>\n",
       "      <td>3.75</td>\n",
       "      <td>1</td>\n",
       "      <td>1</td>\n",
       "      <td>5.0</td>\n",
       "      <td>100</td>\n",
       "      <td>3.0</td>\n",
       "      <td>...</td>\n",
       "      <td>0</td>\n",
       "      <td>0</td>\n",
       "      <td>0</td>\n",
       "      <td>0</td>\n",
       "      <td>0</td>\n",
       "      <td>0</td>\n",
       "      <td>0</td>\n",
       "      <td>1</td>\n",
       "      <td>0</td>\n",
       "      <td>0</td>\n",
       "    </tr>\n",
       "    <tr>\n",
       "      <th>4</th>\n",
       "      <td>20.17</td>\n",
       "      <td>5.625</td>\n",
       "      <td>1</td>\n",
       "      <td>1</td>\n",
       "      <td>1.71</td>\n",
       "      <td>1</td>\n",
       "      <td>0</td>\n",
       "      <td>0.0</td>\n",
       "      <td>120</td>\n",
       "      <td>0.0</td>\n",
       "      <td>...</td>\n",
       "      <td>0</td>\n",
       "      <td>0</td>\n",
       "      <td>0</td>\n",
       "      <td>0</td>\n",
       "      <td>0</td>\n",
       "      <td>0</td>\n",
       "      <td>0</td>\n",
       "      <td>1</td>\n",
       "      <td>1</td>\n",
       "      <td>0</td>\n",
       "    </tr>\n",
       "  </tbody>\n",
       "</table>\n",
       "<p>5 rows × 30 columns</p>\n",
       "</div>"
      ],
      "text/plain": [
       "     Age   Debt  Married  BankCustomer  YearsEmployed  PriorDefault  Employed  \\\n",
       "0  30.83  0.000        1             1           1.25             1         1   \n",
       "1  58.67  4.460        1             1           3.04             1         1   \n",
       "2  24.50  0.500        1             1           1.50             1         0   \n",
       "3  27.83  1.540        1             1           3.75             1         1   \n",
       "4  20.17  5.625        1             1           1.71             1         0   \n",
       "\n",
       "   CreditScore  ZipCode  Income  ...  Industry_Real Estate  Industry_Research  \\\n",
       "0          1.0      202     0.0  ...                     0                  0   \n",
       "1          6.0       43   560.0  ...                     0                  0   \n",
       "2          0.0      280   824.0  ...                     0                  0   \n",
       "3          5.0      100     3.0  ...                     0                  0   \n",
       "4          0.0      120     0.0  ...                     0                  0   \n",
       "\n",
       "   Industry_Transport  Industry_Utilities  Ethnicity_Black  Ethnicity_Latino  \\\n",
       "0                   0                   0                0                 0   \n",
       "1                   0                   0                1                 0   \n",
       "2                   0                   0                1                 0   \n",
       "3                   0                   0                0                 0   \n",
       "4                   0                   0                0                 0   \n",
       "\n",
       "   Ethnicity_Other  Ethnicity_White  Citizen_ByOtherMeans  Citizen_Temporary  \n",
       "0                0                1                     0                  0  \n",
       "1                0                0                     0                  0  \n",
       "2                0                0                     0                  0  \n",
       "3                0                1                     0                  0  \n",
       "4                0                1                     1                  0  \n",
       "\n",
       "[5 rows x 30 columns]"
      ]
     },
     "execution_count": 75,
     "metadata": {},
     "output_type": "execute_result"
    }
   ],
   "source": [
    "df.head()"
   ]
  },
  {
   "cell_type": "markdown",
   "id": "536ee7e4",
   "metadata": {},
   "source": [
    "# VIF Calculation"
   ]
  },
  {
   "cell_type": "code",
   "execution_count": 76,
   "id": "62c269aa",
   "metadata": {},
   "outputs": [],
   "source": [
    "from statsmodels.stats.outliers_influence import variance_inflation_factor"
   ]
  },
  {
   "cell_type": "code",
   "execution_count": 77,
   "id": "cdbcdbd7",
   "metadata": {},
   "outputs": [],
   "source": [
    "x = df[['Age','Debt','YearsEmployed','CreditScore','Income']]"
   ]
  },
  {
   "cell_type": "code",
   "execution_count": 78,
   "id": "50fe4783",
   "metadata": {},
   "outputs": [
    {
     "data": {
      "text/html": [
       "<div>\n",
       "<style scoped>\n",
       "    .dataframe tbody tr th:only-of-type {\n",
       "        vertical-align: middle;\n",
       "    }\n",
       "\n",
       "    .dataframe tbody tr th {\n",
       "        vertical-align: top;\n",
       "    }\n",
       "\n",
       "    .dataframe thead th {\n",
       "        text-align: right;\n",
       "    }\n",
       "</style>\n",
       "<table border=\"1\" class=\"dataframe\">\n",
       "  <thead>\n",
       "    <tr style=\"text-align: right;\">\n",
       "      <th></th>\n",
       "      <th>Age</th>\n",
       "      <th>Debt</th>\n",
       "      <th>YearsEmployed</th>\n",
       "      <th>CreditScore</th>\n",
       "      <th>Income</th>\n",
       "    </tr>\n",
       "  </thead>\n",
       "  <tbody>\n",
       "    <tr>\n",
       "      <th>0</th>\n",
       "      <td>30.83</td>\n",
       "      <td>0.000</td>\n",
       "      <td>1.25</td>\n",
       "      <td>1.0</td>\n",
       "      <td>0.0</td>\n",
       "    </tr>\n",
       "    <tr>\n",
       "      <th>1</th>\n",
       "      <td>58.67</td>\n",
       "      <td>4.460</td>\n",
       "      <td>3.04</td>\n",
       "      <td>6.0</td>\n",
       "      <td>560.0</td>\n",
       "    </tr>\n",
       "    <tr>\n",
       "      <th>2</th>\n",
       "      <td>24.50</td>\n",
       "      <td>0.500</td>\n",
       "      <td>1.50</td>\n",
       "      <td>0.0</td>\n",
       "      <td>824.0</td>\n",
       "    </tr>\n",
       "    <tr>\n",
       "      <th>3</th>\n",
       "      <td>27.83</td>\n",
       "      <td>1.540</td>\n",
       "      <td>3.75</td>\n",
       "      <td>5.0</td>\n",
       "      <td>3.0</td>\n",
       "    </tr>\n",
       "    <tr>\n",
       "      <th>4</th>\n",
       "      <td>20.17</td>\n",
       "      <td>5.625</td>\n",
       "      <td>1.71</td>\n",
       "      <td>0.0</td>\n",
       "      <td>0.0</td>\n",
       "    </tr>\n",
       "    <tr>\n",
       "      <th>...</th>\n",
       "      <td>...</td>\n",
       "      <td>...</td>\n",
       "      <td>...</td>\n",
       "      <td>...</td>\n",
       "      <td>...</td>\n",
       "    </tr>\n",
       "    <tr>\n",
       "      <th>685</th>\n",
       "      <td>21.08</td>\n",
       "      <td>10.085</td>\n",
       "      <td>1.25</td>\n",
       "      <td>0.0</td>\n",
       "      <td>0.0</td>\n",
       "    </tr>\n",
       "    <tr>\n",
       "      <th>686</th>\n",
       "      <td>22.67</td>\n",
       "      <td>0.750</td>\n",
       "      <td>2.00</td>\n",
       "      <td>2.0</td>\n",
       "      <td>394.0</td>\n",
       "    </tr>\n",
       "    <tr>\n",
       "      <th>687</th>\n",
       "      <td>25.25</td>\n",
       "      <td>13.500</td>\n",
       "      <td>2.00</td>\n",
       "      <td>1.0</td>\n",
       "      <td>1.0</td>\n",
       "    </tr>\n",
       "    <tr>\n",
       "      <th>688</th>\n",
       "      <td>17.92</td>\n",
       "      <td>0.205</td>\n",
       "      <td>0.04</td>\n",
       "      <td>0.0</td>\n",
       "      <td>750.0</td>\n",
       "    </tr>\n",
       "    <tr>\n",
       "      <th>689</th>\n",
       "      <td>35.00</td>\n",
       "      <td>3.375</td>\n",
       "      <td>2.46</td>\n",
       "      <td>0.0</td>\n",
       "      <td>0.0</td>\n",
       "    </tr>\n",
       "  </tbody>\n",
       "</table>\n",
       "<p>690 rows × 5 columns</p>\n",
       "</div>"
      ],
      "text/plain": [
       "       Age    Debt  YearsEmployed  CreditScore  Income\n",
       "0    30.83   0.000           1.25          1.0     0.0\n",
       "1    58.67   4.460           3.04          6.0   560.0\n",
       "2    24.50   0.500           1.50          0.0   824.0\n",
       "3    27.83   1.540           3.75          5.0     3.0\n",
       "4    20.17   5.625           1.71          0.0     0.0\n",
       "..     ...     ...            ...          ...     ...\n",
       "685  21.08  10.085           1.25          0.0     0.0\n",
       "686  22.67   0.750           2.00          2.0   394.0\n",
       "687  25.25  13.500           2.00          1.0     1.0\n",
       "688  17.92   0.205           0.04          0.0   750.0\n",
       "689  35.00   3.375           2.46          0.0     0.0\n",
       "\n",
       "[690 rows x 5 columns]"
      ]
     },
     "execution_count": 78,
     "metadata": {},
     "output_type": "execute_result"
    }
   ],
   "source": [
    "x"
   ]
  },
  {
   "cell_type": "code",
   "execution_count": 79,
   "id": "05bc71d6",
   "metadata": {},
   "outputs": [],
   "source": [
    "vif_data=pd.DataFrame()"
   ]
  },
  {
   "cell_type": "code",
   "execution_count": 81,
   "id": "214fb7bb",
   "metadata": {},
   "outputs": [],
   "source": [
    "vif_data['features']=x.columns"
   ]
  },
  {
   "cell_type": "code",
   "execution_count": 84,
   "id": "1e24faa0",
   "metadata": {},
   "outputs": [],
   "source": [
    "vif_data['VIF']=[variance_inflation_factor(x.values,i) for i in range (len(x.columns))]"
   ]
  },
  {
   "cell_type": "code",
   "execution_count": 85,
   "id": "aaa2d692",
   "metadata": {},
   "outputs": [
    {
     "data": {
      "text/html": [
       "<div>\n",
       "<style scoped>\n",
       "    .dataframe tbody tr th:only-of-type {\n",
       "        vertical-align: middle;\n",
       "    }\n",
       "\n",
       "    .dataframe tbody tr th {\n",
       "        vertical-align: top;\n",
       "    }\n",
       "\n",
       "    .dataframe thead th {\n",
       "        text-align: right;\n",
       "    }\n",
       "</style>\n",
       "<table border=\"1\" class=\"dataframe\">\n",
       "  <thead>\n",
       "    <tr style=\"text-align: right;\">\n",
       "      <th></th>\n",
       "      <th>features</th>\n",
       "      <th>VIF</th>\n",
       "    </tr>\n",
       "  </thead>\n",
       "  <tbody>\n",
       "    <tr>\n",
       "      <th>0</th>\n",
       "      <td>Age</td>\n",
       "      <td>2.828930</td>\n",
       "    </tr>\n",
       "    <tr>\n",
       "      <th>1</th>\n",
       "      <td>Debt</td>\n",
       "      <td>2.054744</td>\n",
       "    </tr>\n",
       "    <tr>\n",
       "      <th>2</th>\n",
       "      <td>YearsEmployed</td>\n",
       "      <td>2.298794</td>\n",
       "    </tr>\n",
       "    <tr>\n",
       "      <th>3</th>\n",
       "      <td>CreditScore</td>\n",
       "      <td>1.817621</td>\n",
       "    </tr>\n",
       "    <tr>\n",
       "      <th>4</th>\n",
       "      <td>Income</td>\n",
       "      <td>1.680393</td>\n",
       "    </tr>\n",
       "  </tbody>\n",
       "</table>\n",
       "</div>"
      ],
      "text/plain": [
       "        features       VIF\n",
       "0            Age  2.828930\n",
       "1           Debt  2.054744\n",
       "2  YearsEmployed  2.298794\n",
       "3    CreditScore  1.817621\n",
       "4         Income  1.680393"
      ]
     },
     "execution_count": 85,
     "metadata": {},
     "output_type": "execute_result"
    }
   ],
   "source": [
    "vif_data"
   ]
  },
  {
   "cell_type": "markdown",
   "id": "e2ba4bd2",
   "metadata": {},
   "source": [
    "# Creating model"
   ]
  },
  {
   "cell_type": "code",
   "execution_count": 86,
   "id": "3f731d67",
   "metadata": {},
   "outputs": [],
   "source": [
    "x=df.iloc[:,df.columns != 'Approved']"
   ]
  },
  {
   "cell_type": "code",
   "execution_count": 88,
   "id": "6f63db8f",
   "metadata": {},
   "outputs": [],
   "source": [
    "y=df.iloc[:,df.columns == 'Approved']"
   ]
  },
  {
   "cell_type": "code",
   "execution_count": 90,
   "id": "502082c1",
   "metadata": {},
   "outputs": [],
   "source": [
    "from sklearn.model_selection import train_test_split"
   ]
  },
  {
   "cell_type": "code",
   "execution_count": 91,
   "id": "120e624a",
   "metadata": {},
   "outputs": [],
   "source": [
    "x_train,x_test,y_train,y_test=train_test_split(x,y,test_size=0.3,random_state=123)"
   ]
  },
  {
   "cell_type": "code",
   "execution_count": 92,
   "id": "3fa2d048",
   "metadata": {},
   "outputs": [],
   "source": [
    "from sklearn.linear_model import LogisticRegression"
   ]
  },
  {
   "cell_type": "code",
   "execution_count": 93,
   "id": "d1055445",
   "metadata": {},
   "outputs": [],
   "source": [
    "model=LogisticRegression(solver='liblinear',random_state=123)"
   ]
  },
  {
   "cell_type": "code",
   "execution_count": 94,
   "id": "774637cb",
   "metadata": {},
   "outputs": [
    {
     "name": "stderr",
     "output_type": "stream",
     "text": [
      "C:\\Conda dist\\lib\\site-packages\\sklearn\\utils\\validation.py:993: DataConversionWarning: A column-vector y was passed when a 1d array was expected. Please change the shape of y to (n_samples, ), for example using ravel().\n",
      "  y = column_or_1d(y, warn=True)\n"
     ]
    }
   ],
   "source": [
    "clf=model.fit(x_train,y_train)"
   ]
  },
  {
   "cell_type": "code",
   "execution_count": 95,
   "id": "75fbfbbb",
   "metadata": {},
   "outputs": [],
   "source": [
    "y_pred=clf.predict(x_test)"
   ]
  },
  {
   "cell_type": "code",
   "execution_count": 96,
   "id": "1c3ea091",
   "metadata": {},
   "outputs": [
    {
     "data": {
      "text/plain": [
       "0.8599033816425121"
      ]
     },
     "execution_count": 96,
     "metadata": {},
     "output_type": "execute_result"
    }
   ],
   "source": [
    "clf.score(x_test,y_test)"
   ]
  },
  {
   "cell_type": "code",
   "execution_count": 97,
   "id": "a05fef7f",
   "metadata": {},
   "outputs": [
    {
     "data": {
      "text/plain": [
       "array([-2.08619225])"
      ]
     },
     "execution_count": 97,
     "metadata": {},
     "output_type": "execute_result"
    }
   ],
   "source": [
    "clf.intercept_"
   ]
  },
  {
   "cell_type": "code",
   "execution_count": 98,
   "id": "4bb878b2",
   "metadata": {},
   "outputs": [
    {
     "data": {
      "text/plain": [
       "array([[-0.01793299, -0.02983195,  0.01303626,  0.58230414,  0.27553144,\n",
       "         2.93605989,  0.28787561,  0.19055028, -0.00326723,  0.00294504,\n",
       "        -1.30864209, -0.51328852,  0.38796879, -0.13284517, -0.64602139,\n",
       "        -0.99670274,  0.05582364,  1.29475446, -0.05681709, -0.69727162,\n",
       "        -0.25373214,  0.06279072,  0.89018486,  0.08004152, -0.22185161,\n",
       "        -0.14085112, -0.37031655,  0.56010133,  1.01904202]])"
      ]
     },
     "execution_count": 98,
     "metadata": {},
     "output_type": "execute_result"
    }
   ],
   "source": [
    "clf.coef_"
   ]
  },
  {
   "cell_type": "markdown",
   "id": "dee3e735",
   "metadata": {},
   "source": [
    "# Creating confusion matrix"
   ]
  },
  {
   "cell_type": "code",
   "execution_count": 99,
   "id": "3a1e2d60",
   "metadata": {},
   "outputs": [],
   "source": [
    "from sklearn import metrics"
   ]
  },
  {
   "cell_type": "code",
   "execution_count": 103,
   "id": "b7d3a73e",
   "metadata": {},
   "outputs": [
    {
     "name": "stdout",
     "output_type": "stream",
     "text": [
      "[[98 11]\n",
      " [18 80]]\n"
     ]
    }
   ],
   "source": [
    "cm=metrics.confusion_matrix(y_test,y_pred)\n",
    "print(cm)"
   ]
  },
  {
   "cell_type": "code",
   "execution_count": 104,
   "id": "480b6698",
   "metadata": {},
   "outputs": [
    {
     "name": "stdout",
     "output_type": "stream",
     "text": [
      "              precision    recall  f1-score   support\n",
      "\n",
      "           0       0.84      0.90      0.87       109\n",
      "           1       0.88      0.82      0.85        98\n",
      "\n",
      "    accuracy                           0.86       207\n",
      "   macro avg       0.86      0.86      0.86       207\n",
      "weighted avg       0.86      0.86      0.86       207\n",
      "\n"
     ]
    }
   ],
   "source": [
    "cr=metrics.classification_report(y_test,y_pred)\n",
    "print(cr)"
   ]
  },
  {
   "cell_type": "markdown",
   "id": "857897a6",
   "metadata": {},
   "source": [
    "# ROC curve"
   ]
  },
  {
   "cell_type": "code",
   "execution_count": 107,
   "id": "f8f6695e",
   "metadata": {},
   "outputs": [],
   "source": [
    "from sklearn.metrics import roc_curve, roc_auc_score"
   ]
  },
  {
   "cell_type": "code",
   "execution_count": 110,
   "id": "211b749e",
   "metadata": {},
   "outputs": [
    {
     "name": "stdout",
     "output_type": "stream",
     "text": [
      "[[0.97258547 0.02741453]\n",
      " [0.0296718  0.9703282 ]\n",
      " [0.89244891 0.10755109]\n",
      " [0.12160707 0.87839293]\n",
      " [0.98710247 0.01289753]\n",
      " [0.00838777 0.99161223]\n",
      " [0.97879186 0.02120814]\n",
      " [0.07509541 0.92490459]\n",
      " [0.98187248 0.01812752]\n",
      " [0.21990199 0.78009801]\n",
      " [0.83120417 0.16879583]\n",
      " [0.59049407 0.40950593]\n",
      " [0.27374389 0.72625611]\n",
      " [0.13169043 0.86830957]\n",
      " [0.23676165 0.76323835]\n",
      " [0.05772132 0.94227868]\n",
      " [0.06839222 0.93160778]\n",
      " [0.91463342 0.08536658]\n",
      " [0.05748357 0.94251643]\n",
      " [0.14994097 0.85005903]\n",
      " [0.2397884  0.7602116 ]\n",
      " [0.82759593 0.17240407]\n",
      " [0.44878724 0.55121276]\n",
      " [0.06514231 0.93485769]\n",
      " [0.23688485 0.76311515]\n",
      " [0.49059855 0.50940145]\n",
      " [0.15915356 0.84084644]\n",
      " [0.62689163 0.37310837]\n",
      " [0.83874141 0.16125859]\n",
      " [0.93267098 0.06732902]\n",
      " [0.85422225 0.14577775]\n",
      " [0.06210256 0.93789744]\n",
      " [0.93931629 0.06068371]\n",
      " [0.487947   0.512053  ]\n",
      " [0.56491515 0.43508485]\n",
      " [0.99226863 0.00773137]\n",
      " [0.1789747  0.8210253 ]\n",
      " [0.8437963  0.1562037 ]\n",
      " [0.66182817 0.33817183]\n",
      " [0.1617128  0.8382872 ]\n",
      " [0.33022193 0.66977807]\n",
      " [0.95562406 0.04437594]\n",
      " [0.98281689 0.01718311]\n",
      " [0.2602448  0.7397552 ]\n",
      " [0.97725479 0.02274521]\n",
      " [0.01755195 0.98244805]\n",
      " [0.9644771  0.0355229 ]\n",
      " [0.9148082  0.0851918 ]\n",
      " [0.90339185 0.09660815]\n",
      " [0.96968814 0.03031186]\n",
      " [0.97989286 0.02010714]\n",
      " [0.19442531 0.80557469]\n",
      " [0.06938444 0.93061556]\n",
      " [0.98580139 0.01419861]\n",
      " [0.95140704 0.04859296]\n",
      " [0.49156921 0.50843079]\n",
      " [0.15001068 0.84998932]\n",
      " [0.71314646 0.28685354]\n",
      " [0.96547765 0.03452235]\n",
      " [0.99424712 0.00575288]\n",
      " [0.916169   0.083831  ]\n",
      " [0.28048947 0.71951053]\n",
      " [0.95617119 0.04382881]\n",
      " [0.15583791 0.84416209]\n",
      " [0.61002237 0.38997763]\n",
      " [0.84543838 0.15456162]\n",
      " [0.9838683  0.0161317 ]\n",
      " [0.89076958 0.10923042]\n",
      " [0.97771486 0.02228514]\n",
      " [0.90781296 0.09218704]\n",
      " [0.791586   0.208414  ]\n",
      " [0.58373021 0.41626979]\n",
      " [0.96038391 0.03961609]\n",
      " [0.97190816 0.02809184]\n",
      " [0.28527866 0.71472134]\n",
      " [0.88551805 0.11448195]\n",
      " [0.18339367 0.81660633]\n",
      " [0.53068735 0.46931265]\n",
      " [0.98838056 0.01161944]\n",
      " [0.00935157 0.99064843]\n",
      " [0.98034688 0.01965312]\n",
      " [0.92625975 0.07374025]\n",
      " [0.04595819 0.95404181]\n",
      " [0.98734664 0.01265336]\n",
      " [0.11606099 0.88393901]\n",
      " [0.33568579 0.66431421]\n",
      " [0.98359876 0.01640124]\n",
      " [0.94279083 0.05720917]\n",
      " [0.5842387  0.4157613 ]\n",
      " [0.88319446 0.11680554]\n",
      " [0.93148511 0.06851489]\n",
      " [0.94817793 0.05182207]\n",
      " [0.32547566 0.67452434]\n",
      " [0.95928664 0.04071336]\n",
      " [0.01683432 0.98316568]\n",
      " [0.24844604 0.75155396]\n",
      " [0.97349347 0.02650653]\n",
      " [0.03610645 0.96389355]\n",
      " [0.46381989 0.53618011]\n",
      " [0.92484867 0.07515133]\n",
      " [0.17517296 0.82482704]\n",
      " [0.91885573 0.08114427]\n",
      " [0.54563435 0.45436565]\n",
      " [0.05764326 0.94235674]\n",
      " [0.23642187 0.76357813]\n",
      " [0.05444034 0.94555966]\n",
      " [0.9816144  0.0183856 ]\n",
      " [0.64440091 0.35559909]\n",
      " [0.87716907 0.12283093]\n",
      " [0.96733875 0.03266125]\n",
      " [0.74980062 0.25019938]\n",
      " [0.97014633 0.02985367]\n",
      " [0.71360687 0.28639313]\n",
      " [0.97059101 0.02940899]\n",
      " [0.96338432 0.03661568]\n",
      " [0.93626593 0.06373407]\n",
      " [0.52674968 0.47325032]\n",
      " [0.94110227 0.05889773]\n",
      " [0.95452756 0.04547244]\n",
      " [0.06869615 0.93130385]\n",
      " [0.95047219 0.04952781]\n",
      " [0.56795967 0.43204033]\n",
      " [0.4011413  0.5988587 ]\n",
      " [0.88858162 0.11141838]\n",
      " [0.80066869 0.19933131]\n",
      " [0.05731671 0.94268329]\n",
      " [0.07000116 0.92999884]\n",
      " [0.80718075 0.19281925]\n",
      " [0.05092337 0.94907663]\n",
      " [0.02203316 0.97796684]\n",
      " [0.88989701 0.11010299]\n",
      " [0.96858327 0.03141673]\n",
      " [0.05178268 0.94821732]\n",
      " [0.98580601 0.01419399]\n",
      " [0.97441046 0.02558954]\n",
      " [0.92860708 0.07139292]\n",
      " [0.08133976 0.91866024]\n",
      " [0.90757644 0.09242356]\n",
      " [0.88896505 0.11103495]\n",
      " [0.96807388 0.03192612]\n",
      " [0.15096665 0.84903335]\n",
      " [0.30228395 0.69771605]\n",
      " [0.98983745 0.01016255]\n",
      " [0.91302723 0.08697277]\n",
      " [0.90141491 0.09858509]\n",
      " [0.30239782 0.69760218]\n",
      " [0.9161097  0.0838903 ]\n",
      " [0.9600749  0.0399251 ]\n",
      " [0.46398933 0.53601067]\n",
      " [0.92389567 0.07610433]\n",
      " [0.08507359 0.91492641]\n",
      " [0.9741083  0.0258917 ]\n",
      " [0.19050392 0.80949608]\n",
      " [0.09150013 0.90849987]\n",
      " [0.05700143 0.94299857]\n",
      " [0.19492546 0.80507454]\n",
      " [0.95495787 0.04504213]\n",
      " [0.96296635 0.03703365]\n",
      " [0.92236424 0.07763576]\n",
      " [0.04652368 0.95347632]\n",
      " [0.06741971 0.93258029]\n",
      " [0.93449581 0.06550419]\n",
      " [0.01430303 0.98569697]\n",
      " [0.9173844  0.0826156 ]\n",
      " [0.93266839 0.06733161]\n",
      " [0.35821142 0.64178858]\n",
      " [0.36619351 0.63380649]\n",
      " [0.91202535 0.08797465]\n",
      " [0.33105849 0.66894151]\n",
      " [0.7541248  0.2458752 ]\n",
      " [0.48423317 0.51576683]\n",
      " [0.29255231 0.70744769]\n",
      " [0.18212154 0.81787846]\n",
      " [0.94302621 0.05697379]\n",
      " [0.04601267 0.95398733]\n",
      " [0.83548477 0.16451523]\n",
      " [0.10218807 0.89781193]\n",
      " [0.7762659  0.2237341 ]\n",
      " [0.04225586 0.95774414]\n",
      " [0.98704439 0.01295561]\n",
      " [0.00677594 0.99322406]\n",
      " [0.91424636 0.08575364]\n",
      " [0.03481413 0.96518587]\n",
      " [0.96460869 0.03539131]\n",
      " [0.02101529 0.97898471]\n",
      " [0.97927679 0.02072321]\n",
      " [0.02753794 0.97246206]\n",
      " [0.94062151 0.05937849]\n",
      " [0.02095522 0.97904478]\n",
      " [0.06686173 0.93313827]\n",
      " [0.49431439 0.50568561]\n",
      " [0.91998561 0.08001439]\n",
      " [0.10267179 0.89732821]\n",
      " [0.01944455 0.98055545]\n",
      " [0.96624408 0.03375592]\n",
      " [0.23351899 0.76648101]\n",
      " [0.960178   0.039822  ]\n",
      " [0.84234597 0.15765403]\n",
      " [0.17622783 0.82377217]\n",
      " [0.03568637 0.96431363]\n",
      " [0.0394166  0.9605834 ]\n",
      " [0.8787711  0.1212289 ]\n",
      " [0.96208098 0.03791902]\n",
      " [0.26366637 0.73633363]\n",
      " [0.12726574 0.87273426]\n",
      " [0.74514528 0.25485472]\n",
      " [0.23107838 0.76892162]]\n"
     ]
    }
   ],
   "source": [
    "y_pred_prob=clf.predict_proba(x_test)\n",
    "print(y_pred_prob)"
   ]
  },
  {
   "cell_type": "code",
   "execution_count": 117,
   "id": "84d7f587",
   "metadata": {},
   "outputs": [],
   "source": [
    "fpr,tpr,threshold = roc_curve(y_test,y_pred_prob[:,1])"
   ]
  },
  {
   "cell_type": "code",
   "execution_count": 112,
   "id": "e6fb090d",
   "metadata": {},
   "outputs": [],
   "source": [
    "roc_auc=roc_auc_score(y_test,y_pred_prob[:,1])"
   ]
  },
  {
   "cell_type": "code",
   "execution_count": 113,
   "id": "ad76f10d",
   "metadata": {},
   "outputs": [],
   "source": [
    "from sklearn.metrics import log_loss"
   ]
  },
  {
   "cell_type": "code",
   "execution_count": 114,
   "id": "3103f4b9",
   "metadata": {},
   "outputs": [
    {
     "data": {
      "text/plain": [
       "4.838808265817111"
      ]
     },
     "execution_count": 114,
     "metadata": {},
     "output_type": "execute_result"
    }
   ],
   "source": [
    "log_loss(y_test,y_pred)"
   ]
  },
  {
   "cell_type": "code",
   "execution_count": 119,
   "id": "cd13206e",
   "metadata": {},
   "outputs": [
    {
     "data": {
      "image/png": "[encoded data removed]",
      "text/plain": [
       "<Figure size 432x288 with 1 Axes>"
      ]
     },
     "metadata": {
      "needs_background": "light"
     },
     "output_type": "display_data"
    }
   ],
   "source": [
    "plt.title('ROC curve for logloss:liblinear')\n",
    "plt.xlabel('fpr')\n",
    "plt.ylabel('tpr')\n",
    "plt.plot([0,1],[0,1],\"r--\")\n",
    "plt.xlim([0,1])\n",
    "plt.ylim([0,1])\n",
    "plt.plot(fpr,tpr,label='AUC ='+str(roc_auc))\n",
    "plt.legend(loc='best')\n",
    "plt.show()"
   ]
  }
 ],
 "metadata": {
  "kernelspec": {
   "display_name": "Python 3 (ipykernel)",
   "language": "python",
   "name": "python3"
  },
  "language_info": {
   "codemirror_mode": {
    "name": "ipython",
    "version": 3
   },
   "file_extension": ".py",
   "mimetype": "text/x-python",
   "name": "python",
   "nbconvert_exporter": "python",
   "pygments_lexer": "ipython3",
   "version": "3.9.12"
  }
 },
 "nbformat": 4,
 "nbformat_minor": 5
}
